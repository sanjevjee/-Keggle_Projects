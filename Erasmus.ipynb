{
 "cells": [
  {
   "cell_type": "markdown",
   "id": "7bfadc1c-053e-4134-9698-ffb5b39b9be6",
   "metadata": {},
   "source": [
    "# About Dataset\n",
    "This dataset contains exam scores and grant statuses of students who applied for Erasmus program at a university. Data can be used to analyze performance of students from different faculties and departments, or to create a model that determines whether a student from a faculty with a certain score can receive a grant.\n",
    "\n",
    "VARIABLES\n",
    "INDEX: Unique index number of each record.\n",
    "COUNTRIES: Countries to be attended under Erasmus programme\n",
    "UNIVERSITIES: Universities to be attended under the Erasmus programme\n",
    "FACULTIES: Faculties where the students are enrolled\n",
    "DEPARTMENTS: Departments where the students are enrolled\n",
    "EXAM SCORE: Students' Erasmus exam scores\n",
    "GRANT: Column indicating whether the students received a grant (1: received, 0: not received)\n",
    "Note:\n",
    "Each faculty has own quota. This means that a student scoring 80 in a faculty may not receive a grant, while a student scoring 80 in another faculty may receive grant. This should be taken into account as it may affect model you create.\n",
    "\n",
    "Usage:\n",
    "This dataset can be used for various analyses, such as:\n",
    "\n",
    "Performance comparisons between faculties/departments.\n",
    "Analysis of average exam scores by faculties/departments.\n",
    "Analysis of faculties' quotas and exam scores.\n",
    "Analysis of universities' quotas and faculty/department data.\n",
    "Analysis of universities' countries and faculties/departments distributions.\n",
    "Additionally, with this dataset, models can be created such as to determine whether a student will receive grant based on specified values."
   ]
  },
  {
   "cell_type": "code",
   "execution_count": null,
   "id": "a83472d0-de8c-4c45-9423-ce85c45d50b7",
   "metadata": {},
   "outputs": [],
   "source": []
  },
  {
   "cell_type": "code",
   "execution_count": null,
   "id": "7e40ed92-4979-4f8e-ae8f-79b771f09087",
   "metadata": {},
   "outputs": [],
   "source": []
  },
  {
   "cell_type": "code",
   "execution_count": null,
   "id": "de75fdb7-c9e0-450b-bde3-6d56a9435e8e",
   "metadata": {},
   "outputs": [],
   "source": []
  },
  {
   "cell_type": "code",
   "execution_count": 3,
   "id": "3ced9b52-8eb8-4110-9eba-349c9a14c5aa",
   "metadata": {},
   "outputs": [],
   "source": [
    "# importing necessary libraries\n",
    "import numpy as np\n",
    "import pandas as pd\n",
    "import matplotlib.pyplot as plt\n",
    "import seaborn as sns\n",
    "\n",
    "# to build model\n",
    "from sklearn.model_selection import train_test_split,GridSearchCV,cross_val_score\n",
    "from sklearn.metrics import accuracy_score, recall_score, precision_score, f1_score\n",
    "\n",
    "# to build model\n",
    "from sklearn.linear_model import LogisticRegression\n",
    "from sklearn.tree import DecisionTreeClassifier\n",
    "\n",
    "from sklearn.ensemble import AdaBoostClassifier, GradientBoostingClassifier\n",
    "# to supress warnings\n",
    "import warnings\n",
    "warnings.filterwarnings(\"ignore\")\n"
   ]
  },
  {
   "cell_type": "code",
   "execution_count": 4,
   "id": "c52d8829-dd33-4387-8024-b4f46ab73f96",
   "metadata": {},
   "outputs": [
    {
     "data": {
      "text/html": [
       "<div>\n",
       "<style scoped>\n",
       "    .dataframe tbody tr th:only-of-type {\n",
       "        vertical-align: middle;\n",
       "    }\n",
       "\n",
       "    .dataframe tbody tr th {\n",
       "        vertical-align: top;\n",
       "    }\n",
       "\n",
       "    .dataframe thead th {\n",
       "        text-align: right;\n",
       "    }\n",
       "</style>\n",
       "<table border=\"1\" class=\"dataframe\">\n",
       "  <thead>\n",
       "    <tr style=\"text-align: right;\">\n",
       "      <th></th>\n",
       "      <th>INDEX</th>\n",
       "      <th>COUNTRIES</th>\n",
       "      <th>UNIVERSITIES</th>\n",
       "      <th>FACULTIES</th>\n",
       "      <th>DEPARTMENTS</th>\n",
       "      <th>EXAM SCORE</th>\n",
       "      <th>GRANT</th>\n",
       "    </tr>\n",
       "  </thead>\n",
       "  <tbody>\n",
       "    <tr>\n",
       "      <th>0</th>\n",
       "      <td>1</td>\n",
       "      <td>ITALIA</td>\n",
       "      <td>UNIVERSITA DEGLI STUDI DI ROMA LA SAPIENZA</td>\n",
       "      <td>FACULTY OF ARTS AND SCIENCES</td>\n",
       "      <td>ENGLISH LANGUAGE AND LITERATURE</td>\n",
       "      <td>98.50</td>\n",
       "      <td>1</td>\n",
       "    </tr>\n",
       "    <tr>\n",
       "      <th>1</th>\n",
       "      <td>2</td>\n",
       "      <td>ITALIA</td>\n",
       "      <td>ALMA MATER STUDIORUM - UNIVERSITA DI BOLOGNA</td>\n",
       "      <td>FACULTY OF ARTS AND SCIENCES</td>\n",
       "      <td>SOCIOLOGY</td>\n",
       "      <td>97.10</td>\n",
       "      <td>1</td>\n",
       "    </tr>\n",
       "    <tr>\n",
       "      <th>2</th>\n",
       "      <td>3</td>\n",
       "      <td>GERMAN</td>\n",
       "      <td>UNIVERSITAET BIELEFELD</td>\n",
       "      <td>FACULTY OF ARTS AND SCIENCES</td>\n",
       "      <td>PSYCHOLOGY</td>\n",
       "      <td>96.80</td>\n",
       "      <td>1</td>\n",
       "    </tr>\n",
       "    <tr>\n",
       "      <th>3</th>\n",
       "      <td>4</td>\n",
       "      <td>GERMAN</td>\n",
       "      <td>HOCHSCHULE FUR ANGEWANDTE WISSENSCHAFTEN HAMBURG</td>\n",
       "      <td>FACULTY OF HEALTH SCIENCES</td>\n",
       "      <td>NUTRITION AND DIETETICS</td>\n",
       "      <td>96.50</td>\n",
       "      <td>1</td>\n",
       "    </tr>\n",
       "    <tr>\n",
       "      <th>4</th>\n",
       "      <td>5</td>\n",
       "      <td>ITALIA</td>\n",
       "      <td>UNIVERSITA DEGLI STUDI DI ROMA LA SAPIENZA</td>\n",
       "      <td>FACULTY OF ARTS AND SCIENCES</td>\n",
       "      <td>ENGLISH LANGUAGE AND LITERATURE</td>\n",
       "      <td>96.32</td>\n",
       "      <td>1</td>\n",
       "    </tr>\n",
       "    <tr>\n",
       "      <th>...</th>\n",
       "      <td>...</td>\n",
       "      <td>...</td>\n",
       "      <td>...</td>\n",
       "      <td>...</td>\n",
       "      <td>...</td>\n",
       "      <td>...</td>\n",
       "      <td>...</td>\n",
       "    </tr>\n",
       "    <tr>\n",
       "      <th>336</th>\n",
       "      <td>337</td>\n",
       "      <td>DUTCH</td>\n",
       "      <td>UNIVERSITEIT MAASTRICHT</td>\n",
       "      <td>FACULTY OF ECONOMICS AND ADMINISTRATIVE SCIENCES</td>\n",
       "      <td>POLITICAL SCIENCE AND INTERNATIONAL RELATIONS</td>\n",
       "      <td>62.13</td>\n",
       "      <td>0</td>\n",
       "    </tr>\n",
       "    <tr>\n",
       "      <th>337</th>\n",
       "      <td>338</td>\n",
       "      <td>POLAND</td>\n",
       "      <td>KUJAWSKO - POMORSKA SZKOLA WYZSZA W BYDGOSZCZY</td>\n",
       "      <td>FACULTY OF ENGINEERING</td>\n",
       "      <td>CIVIL ENGINEERING</td>\n",
       "      <td>61.63</td>\n",
       "      <td>0</td>\n",
       "    </tr>\n",
       "    <tr>\n",
       "      <th>338</th>\n",
       "      <td>339</td>\n",
       "      <td>BELGIUM</td>\n",
       "      <td>HOGESCHOOL GENT</td>\n",
       "      <td>FACULTY OF ECONOMICS AND ADMINISTRATIVE SCIENCES</td>\n",
       "      <td>INTERNATIONAL FINANCE</td>\n",
       "      <td>59.93</td>\n",
       "      <td>0</td>\n",
       "    </tr>\n",
       "    <tr>\n",
       "      <th>339</th>\n",
       "      <td>340</td>\n",
       "      <td>DUTCH</td>\n",
       "      <td>STİCHTİNG HANZEHOGESCHOOL GRONİNGEN</td>\n",
       "      <td>FACULTY OF COMMUNICATION</td>\n",
       "      <td>ADVERTISING DESIGN AND COMMUNICATION</td>\n",
       "      <td>56.58</td>\n",
       "      <td>0</td>\n",
       "    </tr>\n",
       "    <tr>\n",
       "      <th>340</th>\n",
       "      <td>341</td>\n",
       "      <td>GERMAN</td>\n",
       "      <td>JULIUS-MAXIMILIANS-UNIVERSITAT WURZBURG</td>\n",
       "      <td>FACULTY OF MEDICINE</td>\n",
       "      <td>MEDICINE</td>\n",
       "      <td>51.40</td>\n",
       "      <td>0</td>\n",
       "    </tr>\n",
       "  </tbody>\n",
       "</table>\n",
       "<p>341 rows × 7 columns</p>\n",
       "</div>"
      ],
      "text/plain": [
       "     INDEX COUNTRIES                                      UNIVERSITIES  \\\n",
       "0        1    ITALIA        UNIVERSITA DEGLI STUDI DI ROMA LA SAPIENZA   \n",
       "1        2    ITALIA      ALMA MATER STUDIORUM - UNIVERSITA DI BOLOGNA   \n",
       "2        3    GERMAN                            UNIVERSITAET BIELEFELD   \n",
       "3        4    GERMAN  HOCHSCHULE FUR ANGEWANDTE WISSENSCHAFTEN HAMBURG   \n",
       "4        5    ITALIA       UNIVERSITA DEGLI STUDI DI ROMA LA SAPIENZA    \n",
       "..     ...       ...                                               ...   \n",
       "336    337     DUTCH                           UNIVERSITEIT MAASTRICHT   \n",
       "337    338    POLAND    KUJAWSKO - POMORSKA SZKOLA WYZSZA W BYDGOSZCZY   \n",
       "338    339   BELGIUM                                   HOGESCHOOL GENT   \n",
       "339    340     DUTCH               STİCHTİNG HANZEHOGESCHOOL GRONİNGEN   \n",
       "340    341    GERMAN           JULIUS-MAXIMILIANS-UNIVERSITAT WURZBURG   \n",
       "\n",
       "                                            FACULTIES  \\\n",
       "0                        FACULTY OF ARTS AND SCIENCES   \n",
       "1                        FACULTY OF ARTS AND SCIENCES   \n",
       "2                        FACULTY OF ARTS AND SCIENCES   \n",
       "3                          FACULTY OF HEALTH SCIENCES   \n",
       "4                        FACULTY OF ARTS AND SCIENCES   \n",
       "..                                                ...   \n",
       "336  FACULTY OF ECONOMICS AND ADMINISTRATIVE SCIENCES   \n",
       "337                            FACULTY OF ENGINEERING   \n",
       "338  FACULTY OF ECONOMICS AND ADMINISTRATIVE SCIENCES   \n",
       "339                          FACULTY OF COMMUNICATION   \n",
       "340                               FACULTY OF MEDICINE   \n",
       "\n",
       "                                       DEPARTMENTS  EXAM SCORE  GRANT  \n",
       "0                  ENGLISH LANGUAGE AND LITERATURE       98.50      1  \n",
       "1                                        SOCIOLOGY       97.10      1  \n",
       "2                                       PSYCHOLOGY       96.80      1  \n",
       "3                          NUTRITION AND DIETETICS       96.50      1  \n",
       "4                  ENGLISH LANGUAGE AND LITERATURE       96.32      1  \n",
       "..                                             ...         ...    ...  \n",
       "336  POLITICAL SCIENCE AND INTERNATIONAL RELATIONS       62.13      0  \n",
       "337                              CIVIL ENGINEERING       61.63      0  \n",
       "338                          INTERNATIONAL FINANCE       59.93      0  \n",
       "339           ADVERTISING DESIGN AND COMMUNICATION       56.58      0  \n",
       "340                                       MEDICINE       51.40      0  \n",
       "\n",
       "[341 rows x 7 columns]"
      ]
     },
     "execution_count": 4,
     "metadata": {},
     "output_type": "execute_result"
    }
   ],
   "source": [
    "# reading files\n",
    "data=pd.read_csv(\"erasmus.csv\")\n",
    "df=data.copy()\n",
    "df"
   ]
  },
  {
   "cell_type": "code",
   "execution_count": 5,
   "id": "00d1206a-d1a4-458d-b1ea-2bbddfa5b2c4",
   "metadata": {},
   "outputs": [
    {
     "data": {
      "text/plain": [
       "(341, 7)"
      ]
     },
     "execution_count": 5,
     "metadata": {},
     "output_type": "execute_result"
    }
   ],
   "source": [
    "# checking shape of data\n",
    "df.shape"
   ]
  },
  {
   "cell_type": "markdown",
   "id": "fc120c31-7ccc-4fa1-9ed0-5a9ff4443ffa",
   "metadata": {},
   "source": [
    "- there are 341 rows and 7 columns"
   ]
  },
  {
   "cell_type": "code",
   "execution_count": 7,
   "id": "bd2e3a86-9722-46ab-a02d-b759427de368",
   "metadata": {},
   "outputs": [
    {
     "name": "stdout",
     "output_type": "stream",
     "text": [
      "<class 'pandas.core.frame.DataFrame'>\n",
      "RangeIndex: 341 entries, 0 to 340\n",
      "Data columns (total 7 columns):\n",
      " #   Column        Non-Null Count  Dtype  \n",
      "---  ------        --------------  -----  \n",
      " 0   INDEX         341 non-null    int64  \n",
      " 1   COUNTRIES     341 non-null    object \n",
      " 2   UNIVERSITIES  341 non-null    object \n",
      " 3   FACULTIES     341 non-null    object \n",
      " 4   DEPARTMENTS   339 non-null    object \n",
      " 5   EXAM SCORE    341 non-null    float64\n",
      " 6   GRANT         341 non-null    int64  \n",
      "dtypes: float64(1), int64(2), object(4)\n",
      "memory usage: 18.8+ KB\n"
     ]
    }
   ],
   "source": [
    "# checking datatype of dataframe\n",
    "df.info()"
   ]
  },
  {
   "cell_type": "markdown",
   "id": "6c829d0a-86e5-43e8-977d-336a88cf1273",
   "metadata": {},
   "source": [
    "- COUNTRIES ,UNIVERSITIES ,FACULTIES ,DEPARTMENTS is object and exam_score and grant feature is int and float."
   ]
  },
  {
   "cell_type": "code",
   "execution_count": 9,
   "id": "2b191f32-06af-46c4-9328-511477af81e0",
   "metadata": {},
   "outputs": [
    {
     "data": {
      "text/html": [
       "<div>\n",
       "<style scoped>\n",
       "    .dataframe tbody tr th:only-of-type {\n",
       "        vertical-align: middle;\n",
       "    }\n",
       "\n",
       "    .dataframe tbody tr th {\n",
       "        vertical-align: top;\n",
       "    }\n",
       "\n",
       "    .dataframe thead th {\n",
       "        text-align: right;\n",
       "    }\n",
       "</style>\n",
       "<table border=\"1\" class=\"dataframe\">\n",
       "  <thead>\n",
       "    <tr style=\"text-align: right;\">\n",
       "      <th></th>\n",
       "      <th>count</th>\n",
       "      <th>mean</th>\n",
       "      <th>std</th>\n",
       "      <th>min</th>\n",
       "      <th>25%</th>\n",
       "      <th>50%</th>\n",
       "      <th>75%</th>\n",
       "      <th>max</th>\n",
       "    </tr>\n",
       "  </thead>\n",
       "  <tbody>\n",
       "    <tr>\n",
       "      <th>INDEX</th>\n",
       "      <td>341.0</td>\n",
       "      <td>171.000000</td>\n",
       "      <td>98.582453</td>\n",
       "      <td>1.0</td>\n",
       "      <td>86.00</td>\n",
       "      <td>171.0</td>\n",
       "      <td>256.00</td>\n",
       "      <td>341.0</td>\n",
       "    </tr>\n",
       "    <tr>\n",
       "      <th>EXAM SCORE</th>\n",
       "      <td>341.0</td>\n",
       "      <td>79.138944</td>\n",
       "      <td>8.565175</td>\n",
       "      <td>51.4</td>\n",
       "      <td>73.57</td>\n",
       "      <td>79.3</td>\n",
       "      <td>85.28</td>\n",
       "      <td>98.5</td>\n",
       "    </tr>\n",
       "    <tr>\n",
       "      <th>GRANT</th>\n",
       "      <td>341.0</td>\n",
       "      <td>0.434018</td>\n",
       "      <td>0.496356</td>\n",
       "      <td>0.0</td>\n",
       "      <td>0.00</td>\n",
       "      <td>0.0</td>\n",
       "      <td>1.00</td>\n",
       "      <td>1.0</td>\n",
       "    </tr>\n",
       "  </tbody>\n",
       "</table>\n",
       "</div>"
      ],
      "text/plain": [
       "            count        mean        std   min    25%    50%     75%    max\n",
       "INDEX       341.0  171.000000  98.582453   1.0  86.00  171.0  256.00  341.0\n",
       "EXAM SCORE  341.0   79.138944   8.565175  51.4  73.57   79.3   85.28   98.5\n",
       "GRANT       341.0    0.434018   0.496356   0.0   0.00    0.0    1.00    1.0"
      ]
     },
     "execution_count": 9,
     "metadata": {},
     "output_type": "execute_result"
    }
   ],
   "source": [
    "# checking statical summary\n",
    "df.describe().T"
   ]
  },
  {
   "cell_type": "markdown",
   "id": "0a1c21b4-d1f0-48b5-9912-49341cb804b8",
   "metadata": {},
   "source": [
    "- we dont need index .will drop it later.\n",
    "- average exam_score is 79 ,min is 51.4 and maximum is 98.5.\n",
    "- 43% student recieve grant. "
   ]
  },
  {
   "cell_type": "code",
   "execution_count": 11,
   "id": "0f0b1cfb-5902-44c4-9d38-5254de1f28f2",
   "metadata": {},
   "outputs": [
    {
     "data": {
      "text/html": [
       "<div>\n",
       "<style scoped>\n",
       "    .dataframe tbody tr th:only-of-type {\n",
       "        vertical-align: middle;\n",
       "    }\n",
       "\n",
       "    .dataframe tbody tr th {\n",
       "        vertical-align: top;\n",
       "    }\n",
       "\n",
       "    .dataframe thead th {\n",
       "        text-align: right;\n",
       "    }\n",
       "</style>\n",
       "<table border=\"1\" class=\"dataframe\">\n",
       "  <thead>\n",
       "    <tr style=\"text-align: right;\">\n",
       "      <th></th>\n",
       "      <th>count</th>\n",
       "      <th>unique</th>\n",
       "      <th>top</th>\n",
       "      <th>freq</th>\n",
       "    </tr>\n",
       "  </thead>\n",
       "  <tbody>\n",
       "    <tr>\n",
       "      <th>COUNTRIES</th>\n",
       "      <td>341</td>\n",
       "      <td>22</td>\n",
       "      <td>GERMAN</td>\n",
       "      <td>67</td>\n",
       "    </tr>\n",
       "    <tr>\n",
       "      <th>UNIVERSITIES</th>\n",
       "      <td>341</td>\n",
       "      <td>132</td>\n",
       "      <td>STICHTING CHRISTELIJKE HOGESCHOOL WINDESHEIM</td>\n",
       "      <td>13</td>\n",
       "    </tr>\n",
       "    <tr>\n",
       "      <th>FACULTIES</th>\n",
       "      <td>341</td>\n",
       "      <td>13</td>\n",
       "      <td>FACULTY OF ECONOMICS AND ADMINISTRATIVE SCIENCES</td>\n",
       "      <td>73</td>\n",
       "    </tr>\n",
       "    <tr>\n",
       "      <th>DEPARTMENTS</th>\n",
       "      <td>339</td>\n",
       "      <td>56</td>\n",
       "      <td>COMPUTER ENGINEERING</td>\n",
       "      <td>25</td>\n",
       "    </tr>\n",
       "  </tbody>\n",
       "</table>\n",
       "</div>"
      ],
      "text/plain": [
       "             count unique                                               top  \\\n",
       "COUNTRIES      341     22                                            GERMAN   \n",
       "UNIVERSITIES   341    132      STICHTING CHRISTELIJKE HOGESCHOOL WINDESHEIM   \n",
       "FACULTIES      341     13  FACULTY OF ECONOMICS AND ADMINISTRATIVE SCIENCES   \n",
       "DEPARTMENTS    339     56                              COMPUTER ENGINEERING   \n",
       "\n",
       "             freq  \n",
       "COUNTRIES      67  \n",
       "UNIVERSITIES   13  \n",
       "FACULTIES      73  \n",
       "DEPARTMENTS    25  "
      ]
     },
     "execution_count": 11,
     "metadata": {},
     "output_type": "execute_result"
    }
   ],
   "source": [
    "# checking categorical\n",
    "df.describe(exclude=np.number).T"
   ]
  },
  {
   "cell_type": "markdown",
   "id": "934f53b0-3b9b-4b1f-bea0-663393330f7f",
   "metadata": {},
   "source": [
    "- there are 22 unique contries.german is top 67 times.\n",
    "  "
   ]
  },
  {
   "cell_type": "code",
   "execution_count": 13,
   "id": "e7cb4e38-91f7-4413-99fd-354a69ed6d38",
   "metadata": {},
   "outputs": [
    {
     "data": {
      "text/plain": [
       "0"
      ]
     },
     "execution_count": 13,
     "metadata": {},
     "output_type": "execute_result"
    }
   ],
   "source": [
    "# checking duplicates\n",
    "df.duplicated().sum()"
   ]
  },
  {
   "cell_type": "markdown",
   "id": "d8e66c44-724f-4225-9078-513e29c76215",
   "metadata": {},
   "source": [
    "- there is no duplicates in dataset"
   ]
  },
  {
   "cell_type": "code",
   "execution_count": 15,
   "id": "cdea28da-ba25-4438-a605-3985559abfd4",
   "metadata": {},
   "outputs": [
    {
     "data": {
      "text/plain": [
       "INDEX           0\n",
       "COUNTRIES       0\n",
       "UNIVERSITIES    0\n",
       "FACULTIES       0\n",
       "DEPARTMENTS     2\n",
       "EXAM SCORE      0\n",
       "GRANT           0\n",
       "dtype: int64"
      ]
     },
     "execution_count": 15,
     "metadata": {},
     "output_type": "execute_result"
    }
   ],
   "source": [
    "# checking null values\n",
    "df.isna().sum()"
   ]
  },
  {
   "cell_type": "markdown",
   "id": "4b5768d8-8c5a-48e1-b9ee-4c22adbe0924",
   "metadata": {},
   "source": [
    "- there are 2 missing values in Department."
   ]
  },
  {
   "cell_type": "markdown",
   "id": "4eef62ba-ec51-4f15-a24f-e083faa990c3",
   "metadata": {},
   "source": [
    "# EDA"
   ]
  },
  {
   "cell_type": "code",
   "execution_count": 18,
   "id": "3a2844ea-0571-47f8-9d50-752aa9207b7b",
   "metadata": {},
   "outputs": [
    {
     "data": {
      "text/plain": [
       "Index(['INDEX', 'COUNTRIES', 'UNIVERSITIES', 'FACULTIES', 'DEPARTMENTS',\n",
       "       'EXAM SCORE', 'GRANT'],\n",
       "      dtype='object')"
      ]
     },
     "execution_count": 18,
     "metadata": {},
     "output_type": "execute_result"
    }
   ],
   "source": [
    "# checking features of dataframe\n",
    "df.columns"
   ]
  },
  {
   "cell_type": "code",
   "execution_count": 19,
   "id": "a267531e-d70f-4fa6-b813-5df69d75e598",
   "metadata": {},
   "outputs": [],
   "source": [
    "# copying data\n",
    "df1=df.copy()"
   ]
  },
  {
   "cell_type": "code",
   "execution_count": 20,
   "id": "1d60ad3b-47dc-4f21-b4ad-a5ce915d875c",
   "metadata": {},
   "outputs": [
    {
     "name": "stdout",
     "output_type": "stream",
     "text": [
      "INDEX\n",
      "1      1\n",
      "226    1\n",
      "234    1\n",
      "233    1\n",
      "232    1\n",
      "      ..\n",
      "113    1\n",
      "112    1\n",
      "111    1\n",
      "110    1\n",
      "341    1\n",
      "Name: count, Length: 341, dtype: int64\n",
      "##################################################\n",
      "COUNTRIES\n",
      "GERMAN            67\n",
      "DUTCH             63\n",
      "POLAND            45\n",
      "SPAIN             26\n",
      "ITALIA            24\n",
      "FRANCE            24\n",
      "BELGIUM           13\n",
      "AUSTRIA           13\n",
      "HUNGARY           11\n",
      "ROMANIA           10\n",
      "PORTUGUESE         7\n",
      "LITHUANIA          7\n",
      "GREECE             5\n",
      "DENMARK            5\n",
      "CZECH REPUBLIC     4\n",
      "SLOVENIA           3\n",
      "SWEDISH            3\n",
      "IRELAND            3\n",
      "FINLAND            3\n",
      "CROATIA            3\n",
      "BULGARIA           1\n",
      "NORWAY             1\n",
      "Name: count, dtype: int64\n",
      "##################################################\n",
      "UNIVERSITIES\n",
      "STICHTING CHRISTELIJKE HOGESCHOOL WINDESHEIM    13\n",
      "STİCHTİNG HOGESCHOOL UTRECHT                    12\n",
      "STİCHTİNG HANZEHOGESCHOOL GRONİNGEN             10\n",
      "UNIVERSITA DEGLI STUDI DI ROMA LA SAPIENZA       8\n",
      "FUNDACIO UNIVERSITARIA BALMES                    8\n",
      "                                                ..\n",
      "SATAKUNNAN AMMATTIKORKEAKOULU OY                 1\n",
      "UNIVERSIDADE DE LISBOA                           1\n",
      "KATHOLIEKE UNIVERSITEIT LEUVEN                   1\n",
      "INSTITUT D'ETUDES POLITIQUES DE BORDEAUX         1\n",
      "MİLTON FRİEDMAN EGYETEM                          1\n",
      "Name: count, Length: 132, dtype: int64\n",
      "##################################################\n",
      "FACULTIES\n",
      "FACULTY OF ECONOMICS AND ADMINISTRATIVE SCIENCES    73\n",
      "FACULTY OF ENGINEERING                              69\n",
      "FACULTY OF ARTS AND SCIENCES                        53\n",
      "FACULTY OF COMMUNICATION                            32\n",
      " FACULTY OF COMPUTER AND INFORMATION SCIENCES       24\n",
      "FACULTY OF LAW                                      23\n",
      "FACULTY OF ARCHITECTURE                             18\n",
      "FACULTY OF HEALTH SCIENCES                          16\n",
      "FACULTY OF EDUCATION                                16\n",
      "FACULTY OF FINE ARTS                                 8\n",
      "FACULTY OF PHARMACY                                  5\n",
      "FACULTY OF MEDICINE                                  2\n",
      "GRADUATE SCHOOL OF SOCIAL SCIENCES                   2\n",
      "Name: count, dtype: int64\n",
      "##################################################\n",
      "DEPARTMENTS\n",
      "COMPUTER ENGINEERING                                      25\n",
      "LAW                                                       23\n",
      "PSYCHOLOGY                                                18\n",
      "BUSINESS ADMINISTRATION                                   18\n",
      "POLITICAL SCIENCE AND INTERNATIONAL RELATIONS             15\n",
      "INTERNATIONAL TRADE AND BUSINESS                          13\n",
      "ENGLISH LANGUAGE AND LITERATURE                           12\n",
      "INDUSTRIAL ENGINEERING                                    12\n",
      "MANAGEMENT INFORMATION SYSTEMS                            11\n",
      "ENGLISH LANGUAGE TEACHING                                 11\n",
      "VISUAL COMMUNICATION AND DESIGN                            9\n",
      "ARCHITECTURE                                               9\n",
      "GENETICS AND BIOENGINEERING                                8\n",
      "INFORMATION SYSTEMS AND TECHNOLOGIES                       8\n",
      "PHYSIOTHERAPY AND REHABILITATION                           8\n",
      "ADVERTISING DESIGN AND COMMUNICATION                       8\n",
      "RADIO TELEVISION AND CINEMA                                7\n",
      "PUBLIC RELATIONS AND PUBLICITY                             7\n",
      "E-COMMERCE MANAGEMENT                                      7\n",
      "TRANSLATION AND INTERPRETING STUDIES                       7\n",
      "ELECTRICAL & ELECTRONICS ENGINEERING                       6\n",
      "SOCIOLOGY                                                  6\n",
      "BIOMEDICAL ENGINEERING                                     5\n",
      "MECHANICAL ENGINEERING                                     5\n",
      "POLITICAL SCIENCE AND INTERNATIONAL RELATIONS (FRENCH)     5\n",
      "GRAPHIC DESIGN                                             5\n",
      "PHARMACY                                                   5\n",
      "INTERIOR ARCHITECTURE                                      4\n",
      "NURSING                                                    4\n",
      "NUTRITION AND DIETETICS                                    4\n",
      "ECONOMICS                                                  4\n",
      "PHYSICS                                                    3\n",
      "CIVIL ENGINEERING                                          3\n",
      "GUIDANCE AND PSYCHOLOGICAL COUNSELING                      3\n",
      "FOOD ENGINEERING                                           3\n",
      "INTERNATIONAL FINANCE                                      3\n",
      "URBAN DESIGN AND LANDSCAPE ARCHITECTURE                    3\n",
      "HISTORY                                                    3\n",
      "LOGISTICS MANAGEMENT                                       3\n",
      "INFORMATION SECURITY TECHNOLOGY                            2\n",
      "INDUSTRIAL DESIGN                                          2\n",
      "CHEMICAL ENGINEERING                                       2\n",
      "PLASTIC ARTS AND PAINTING                                  2\n",
      "INTERNATIONALES MANAGEMENT (DE)                            2\n",
      "MEDICINE                                                   2\n",
      "MATHEMATICS                                                2\n",
      "PHILOSOPHY                                                 2\n",
      "TOURISM MANAGEMENT                                         2\n",
      "JOURNALISM                                                 1\n",
      "SOFTWARE DEVELOPMENT                                       1\n",
      "PRICATE LAW                                                1\n",
      "PUBLIC ADMINISTRATION                                      1\n",
      "AGRICULTURAL TRADE AND MANAGEMENT                          1\n",
      "TEXTILE AND FASHION DESIGN                                 1\n",
      "ELEMENTARY MATHEMATICS EDUCATION                           1\n",
      "SPECIAL EDUCATION TEACHING                                 1\n",
      "Name: count, dtype: int64\n",
      "##################################################\n",
      "EXAM SCORE\n",
      "77.70    3\n",
      "81.73    3\n",
      "73.88    2\n",
      "76.98    2\n",
      "80.35    2\n",
      "        ..\n",
      "83.05    1\n",
      "83.12    1\n",
      "83.47    1\n",
      "83.52    1\n",
      "51.40    1\n",
      "Name: count, Length: 308, dtype: int64\n",
      "##################################################\n",
      "GRANT\n",
      "0    193\n",
      "1    148\n",
      "Name: count, dtype: int64\n",
      "##################################################\n"
     ]
    }
   ],
   "source": [
    "# Checking values of all features in one go\n",
    "for column in df1.columns:\n",
    "    print(df1[column].value_counts())\n",
    "    print(\"#\" * 50)\n",
    "    \n"
   ]
  },
  {
   "cell_type": "code",
   "execution_count": 21,
   "id": "bc99bb7c-fbc6-42a4-b768-2a3157c35f3f",
   "metadata": {},
   "outputs": [
    {
     "data": {
      "text/plain": [
       "array(['UNIVERSITA DEGLI STUDI DI ROMA LA SAPIENZA',\n",
       "       'ALMA MATER STUDIORUM - UNIVERSITA DI BOLOGNA',\n",
       "       'UNIVERSITAET BIELEFELD',\n",
       "       'HOCHSCHULE FUR ANGEWANDTE WISSENSCHAFTEN HAMBURG',\n",
       "       'UNIVERSITA DEGLI STUDI DI ROMA LA SAPIENZA ',\n",
       "       \"INSTITUT D'ETUDES POLITIQUES D'AIX-EN-PROVENCE \",\n",
       "       'OULUN YLIOPISTO',\n",
       "       'ETHNIKO KAI KAPODISTRIAKO PANEPISTIMIO ATHINON ',\n",
       "       'UNIVERSIDAD AUTONOMA DE BARCELONA', 'UNIVERSITY OF LIMERICK',\n",
       "       'UNIVERSITAT DE BARCELONA',\n",
       "       'LIBERA UNIVERSITA DI LINGUE E COMUNICAZIONE IULM',\n",
       "       'STİCHTİNG HOGESCHOOL UTRECHT',\n",
       "       'ETHNIKO KAI KAPODISTRIAKO PANEPISTIMIO ATHINON',\n",
       "       'HOGESCHOOL GENT',\n",
       "       \"INSTITUT D'ETUDES POLITIQUES D'AIX-EN-PROVENCE\",\n",
       "       'UNIVERSIDAD DE LA IGLESIA DE DEUSTO ENTIDAD RELIGIOSA',\n",
       "       'HOCHSCHULE BREMEN', 'STİCHTİNG HANZEHOGESCHOOL GRONİNGEN',\n",
       "       'ESNE - ESTUDIOS SUPERIORES INTERNACIONALES',\n",
       "       'STICHTING HOGER ONDERWIJS NEDERLAND',\n",
       "       'SOFIA UNIVERSITY ST KLIMENT OHRIDSKI',\n",
       "       'EBERHARD KARLS UNIVERSITAET TUEBINGEN',\n",
       "       'FH OO STUDIENBETRIEBS GMBH', 'VILNIAUS UNIVERSITETAS',\n",
       "       'UNIVERSITE DE STRASBOURG', 'UNIWERSYTET WARSZAWSKI',\n",
       "       \"INSTITUT D'ETUDES POLITIQUES\",\n",
       "       'HOCHSCHULE FÜR ANGEWANDTE WİSSENSCHAFTEN HOF',\n",
       "       'SWPS UNIWERSYTET HUMANISTYCZNOSPOLECZNY',\n",
       "       'UNIVERSITAET PADERBORN',\n",
       "       'WYZSZA SZKOLA GOSPODARKI Z SIEDZIBAW BYDGOSZCZY UCZELNIA',\n",
       "       'UNIVERSITAET GRAZ', 'UNIWERSYTET LODZKI',\n",
       "       'STICHTING CHRISTELIJKE HOGESCHOOL WINDESHEIM',\n",
       "       'HOCHSCHULE BONN-RHEİN-SİEG', 'UNIWERSYTET WROCLAWSKI',\n",
       "       'UNIVERSITA DEGLI STUDI DI SIENA', 'UNIVERZA V LJUBLJANI',\n",
       "       'UNIVERSITEIT MAASTRICHT', 'UNIVERSITE DE NANTES',\n",
       "       'UNİVERSİTY OF APPLİED SCİENCES WUERZBURG-SCHWEİNFURT',\n",
       "       'LIETUVOS SVEIKATOS MOKSLU UNIVERSITETAS', 'UMEA UNIVERSITET',\n",
       "       'UNIVERSITY OF PECS FACULTY OF HEALTH SCIENCES',\n",
       "       'MYKOLO ROMERIO UNIVERSITETAS', 'UNIVERSITEIT VAN AMSTERDAM',\n",
       "       'JULIUS-MAXIMILIANS-UNIVERSITAT WURZBURG',\n",
       "       'UNIVERSITE DE LORRAINE', 'STICHTING HOGESCHOOL VAN AMSTERDAM',\n",
       "       'ÉCOLE INTERNATİONALE DE CRÉATİON AUDİOVİSUELLE ET DE RÉALİSATİON',\n",
       "       'AKADEMIA SZTUK PIEKNYCH W WARSZAWIE',\n",
       "       'UNIVERSITATEA ALEXANDRU IOAN CUZA DIN IASI',\n",
       "       'FUNDACIO UNIVERSITARIA BALMES',\n",
       "       'UNIVERSITA DEGLI STUDI DI MESSINA', 'AKADEMIA LEONA KOZMINSKIEGO',\n",
       "       'UNIVERSITATEA DE VEST DIN TIMISOARA',\n",
       "       'KOBENHAVNS ERHVERVSAKADEMI', 'UNIVERSIDAD AUTONOMA DE MADRID',\n",
       "       'UNIVERSITAT POLITECNICA DE CATALUNYA',\n",
       "       'ARTESIS PLANTIJN HOGESCHOOL ANTWERPEN',\n",
       "       'STICHTING HOGESCHOOL VAN ARNHEM ENNIJMEGEN HAN',\n",
       "       'UNIVERSITE DE TECHNOLOGIE DE BELFORT - MONTBELIARD',\n",
       "       'UNIWERSYTET MARII CURIE-SKLODOWSKIEJ',\n",
       "       'HOCHSCHULE FÜR ANGEWANDTE WİSSENSCHAFTEN AUGSBURG',\n",
       "       'JOHANNES GUTENBERG-UNIVERSITAT MAINZ', 'UNIVERSIDADE DA CORUNA',\n",
       "       'KOBENHAVNS PROFESSIONSHOJSKOLE', 'HOCHSCHULE WORMS',\n",
       "       'INSTITUTO POLITECNICO DE LISBOA', 'HOCHSCHULE KOBLENZ',\n",
       "       'MONDRAGON UNIBERTSITATEA',\n",
       "       'HOCHSCHULE MAINZ UNIVERSITY OF APPLIED SCIENCES',\n",
       "       'WYZSZA SZKOLA MENEDZERSKA W WARSZAWİE',\n",
       "       'CY CERGY PARIS UNIVERSITE',\n",
       "       'KARKONOSKA PANSTWOWA SZKOLA WYZSZA W JELENİEJ GORZE',\n",
       "       'UNIVERSITATEA TEHNICA GHEORGHE ASACHI DIN IASI',\n",
       "       'CHRISTIAN-ALBRECHTS-UNIVERSITAET ZU KIEL',\n",
       "       'PHILIPPS UNIVERSITAET MARBURG', 'SZEGEDI TUDOMANYEGYETEM',\n",
       "       'FRANKFURT UNIVERSITY OF APPLIED SCIENCES',\n",
       "       'UNIVERSITY OF STUTTGART', 'UNIVERSITATEA BABES BOLYAI',\n",
       "       'AKADEMIA GORNICZO-HUTNICZA IM. STANISLAWA STASZICA W KRAKOWIE',\n",
       "       'UNIWERSYTET PRZYRODNICZY WE WROCLAWIU',\n",
       "       'VIESOJI ISTAIGA EUROPOS HUMANITARINIS UNIVERSITETAS',\n",
       "       'DUALE HOCHSCHULE BADEN-WÜRTTEMBERG KARLSRUHE',\n",
       "       'EOTVOS LORAND TUDOMANYEGYETEM', 'UNIVERSITAET OSNABRUECK',\n",
       "       'SRH HOCHSCHULEN BERLIN GMBH', 'UC LEUVEN',\n",
       "       'TECHNISCHE HOCHSCHULE KOLN',\n",
       "       'ZACHODNIOPOMORSKI UNIWERSYTET TECHNOLOGICZNY W SZCZECINIE',\n",
       "       'HOCHSCHULE FÜR WİRTSCHAFT UND GESELLSCHAFT LUDWİGSHAFEN',\n",
       "       'SATAKUNNAN AMMATTIKORKEAKOULU OY', 'ROSKILDE UNIVERSITET',\n",
       "       'UNIVERSITA DEGLI STUDI DI TRENTO', 'UNIVERSIDADE DE LISBOA',\n",
       "       'KATHOLIEKE UNIVERSITEIT LEUVEN',\n",
       "       \"INSTITUT D'ETUDES POLITIQUES DE BORDEAUX\",\n",
       "       'UNIVERZITA TOMASE BATI VE ZLINE', 'HOCHSCHULE FLENSBURG',\n",
       "       'HOCHSCHULE FUER WIRTSCHAFT UND UMWELT NUERTINGEN-GEISLINGEN',\n",
       "       'ESCOLA SUPERIOR DE ENFERMAGEM DE COIMBRA', 'HOGSKOLEN I OSTFOLD',\n",
       "       'UNIVERSITY OF MARIBOR', 'STICHTING VAN HALL LARENSTEIN',\n",
       "       'UNIVERSITE PARIS NANTERRE', 'COLLEGİUM DA VİNCİ',\n",
       "       'TARPTAUTINE TEISES IR VERSLO AUKSTOJI MOKYKLA UAB',\n",
       "       'UNIVERSITAET KLAGENFURT', 'VYSOKA SKOLA NEWTON, A.S.',\n",
       "       'UNIVERSITA DEGLI STUDI DELLA CAMPANIA LUIGI VANVITELLI',\n",
       "       'UNIVERZITA KARLOVA',\n",
       "       'KUJAWSKO - POMORSKA SZKOLA WYZSZA W BYDGOSZCZY',\n",
       "       'AKADEMIA WYCHOWANIA FIZYCZNEGO JOZEFA PILSUDSKIEGO W',\n",
       "       'UNIVERSITAET INNSBRUCK', 'HAUTE ÉCOLE DE LA PROVİNCE DE LİÈGE',\n",
       "       'STICHTING HOGESCHOOL ROTTERDAM',\n",
       "       'FRIEDRICH-ALEXANDER-UNIVERSITAET ERLANGEN-NUERNBERG',\n",
       "       'KATHOLISCHE HOCHSCHULE FREIBURG GGMBH',\n",
       "       'UNIVERSIDAD PONTIFICIA COMILLAS', 'DIETHNES PANEPISTIMIO ELLADOS',\n",
       "       'EUROPÄİSCHE FACHHOCHSCHULE RHEİN/ERFT GMBH',\n",
       "       'SVEUCILISTE U ZAGREBU', 'FACHHOCHSCHULE DES BFI WIEN GMBH',\n",
       "       'UNIVERSITAET KASSEL', 'MAGYAR AGRAR- ES ELETTUDOMANYI EGYETEM',\n",
       "       'UNIVERSIDADE DE TRAS-OS-MONTES E ALTO DOURO',\n",
       "       'WESTFAELISCHE WILHELMS-UNIVERSITAET MUENSTER',\n",
       "       \"INSTITUT D'ETUDES POLITIQUES DE TOULOUSE\",\n",
       "       'MİLTON FRİEDMAN EGYETEM'], dtype=object)"
      ]
     },
     "execution_count": 21,
     "metadata": {},
     "output_type": "execute_result"
    }
   ],
   "source": [
    "# Checking university \n",
    "df1.UNIVERSITIES.unique()"
   ]
  },
  {
   "cell_type": "markdown",
   "id": "c592b38a-2670-4027-bdf9-392058c59af3",
   "metadata": {},
   "source": [
    "- there are so many universities in our dataset.will drop in later"
   ]
  },
  {
   "cell_type": "markdown",
   "id": "555c27cb-ee4e-4bd5-9bfa-1783111a0bc9",
   "metadata": {},
   "source": [
    "#### COUNTRIES"
   ]
  },
  {
   "cell_type": "code",
   "execution_count": 24,
   "id": "521e9a5b-9ef8-41a6-a924-1f5847e2ae76",
   "metadata": {},
   "outputs": [
    {
     "data": {
      "text/plain": [
       "COUNTRIES  UNIVERSITIES                              \n",
       "AUSTRIA    UNIVERSITAET GRAZ                             5\n",
       "           UNIVERSITAET INNSBRUCK                        3\n",
       "           UNIVERSITAET KLAGENFURT                       3\n",
       "           FACHHOCHSCHULE DES BFI WIEN GMBH              1\n",
       "           FH OO STUDIENBETRIEBS GMBH                    1\n",
       "                                                        ..\n",
       "SPAIN      UNIVERSITAT DE BARCELONA                      1\n",
       "           UNIVERSIDAD AUTONOMA DE MADRID                1\n",
       "           UNIVERSIDAD AUTONOMA DE BARCELONA             1\n",
       "           ESNE - ESTUDIOS SUPERIORES INTERNACIONALES    1\n",
       "SWEDISH    UMEA UNIVERSITET                              3\n",
       "Name: count, Length: 132, dtype: int64"
      ]
     },
     "execution_count": 24,
     "metadata": {},
     "output_type": "execute_result"
    }
   ],
   "source": [
    "df1.groupby(\"COUNTRIES\")[\"UNIVERSITIES\"].value_counts()\n"
   ]
  },
  {
   "cell_type": "markdown",
   "id": "aaa6291d-b601-48b5-b659-7ffaa5179f73",
   "metadata": {},
   "source": [
    "- most of the university from austria followed by spain and swedish."
   ]
  },
  {
   "cell_type": "code",
   "execution_count": 26,
   "id": "456f5589-5a5a-41b2-a688-7df10aaa5c6e",
   "metadata": {},
   "outputs": [
    {
     "data": {
      "image/png": "[encoded data removed]",
      "text/plain": [
       "<Figure size 640x480 with 1 Axes>"
      ]
     },
     "metadata": {},
     "output_type": "display_data"
    }
   ],
   "source": [
    "# checking country feature\n",
    "plt.xticks(rotation=60, fontsize=6)\n",
    "sns.histplot(df1,x=\"COUNTRIES\",color=\"r\");"
   ]
  },
  {
   "cell_type": "code",
   "execution_count": 27,
   "id": "5914395f-c66d-4550-b8aa-29ca485127bb",
   "metadata": {},
   "outputs": [
    {
     "data": {
      "image/png": "[encoded data removed]",
      "text/plain": [
       "<Figure size 800x600 with 1 Axes>"
      ]
     },
     "metadata": {},
     "output_type": "display_data"
    }
   ],
   "source": [
    "\n",
    "plt.figure(figsize=(8, 6)) \n",
    "sns.scatterplot(data=df1, x=\"EXAM SCORE\", y=\"GRANT\")\n",
    "plt.title('Scatter Plot of Exam Score vs Grant')\n",
    "plt.xlabel('Exam Score')\n",
    "plt.ylabel('Grant')\n",
    "plt.grid(True)\n",
    "plt.show()"
   ]
  },
  {
   "cell_type": "code",
   "execution_count": 28,
   "id": "4394489d-6f7b-4f43-9d44-0bd53c3a886f",
   "metadata": {},
   "outputs": [
    {
     "data": {
      "image/png": "[encoded data removed]",
      "text/plain": [
       "<Figure size 800x600 with 1 Axes>"
      ]
     },
     "metadata": {},
     "output_type": "display_data"
    }
   ],
   "source": [
    "plt.figure(figsize=(8, 6)) \n",
    "df1['GRANT'].plot(kind='hist', bins=20, edgecolor='black')  \n",
    "plt.title('Histogram of Grant')\n",
    "plt.xlabel('GRANT')\n",
    "plt.ylabel('Frequency')\n",
    "plt.grid(True)\n",
    "plt.show()"
   ]
  },
  {
   "cell_type": "code",
   "execution_count": 29,
   "id": "1ded4b60-9d8b-4d3f-8602-bc9e9e229432",
   "metadata": {},
   "outputs": [
    {
     "data": {
      "image/png": "[encoded data removed]",
      "text/plain": [
       "<Figure size 640x480 with 1 Axes>"
      ]
     },
     "metadata": {},
     "output_type": "display_data"
    }
   ],
   "source": [
    "# checking department feature \n",
    "\n",
    "plt.xticks(rotation=90,fontsize=6)\n",
    "sns.histplot(df1,x=\"DEPARTMENTS\");"
   ]
  },
  {
   "cell_type": "code",
   "execution_count": 30,
   "id": "77443788-72cf-428f-a63f-788312fd4cde",
   "metadata": {},
   "outputs": [],
   "source": [
    "# copying data\n",
    "df2=df1.copy()"
   ]
  },
  {
   "cell_type": "markdown",
   "id": "443a8faf-e1a3-49f5-ba25-46b9374814c7",
   "metadata": {},
   "source": [
    "## Data Preprocessing"
   ]
  },
  {
   "cell_type": "code",
   "execution_count": 32,
   "id": "38c6d505-3ed7-4f23-b456-6e4aeacca12c",
   "metadata": {},
   "outputs": [
    {
     "data": {
      "image/png": "[encoded data removed]",
      "text/plain": [
       "<Figure size 640x480 with 1 Axes>"
      ]
     },
     "metadata": {},
     "output_type": "display_data"
    }
   ],
   "source": [
    "# checking outlier\n",
    "# num_df=df2.select_dtypes(include=np.number)\n",
    "# for i in df2:\n",
    "sns.boxplot(df2);\n",
    "    \n",
    "    \n",
    "    "
   ]
  },
  {
   "cell_type": "markdown",
   "id": "f5008131-89cb-4fb3-9aef-70a587ea8d70",
   "metadata": {},
   "source": [
    "- there is no huge outlier present in dataset."
   ]
  },
  {
   "cell_type": "code",
   "execution_count": 34,
   "id": "9bb00e42-0f38-4698-8e1a-7899ee1de86f",
   "metadata": {},
   "outputs": [
    {
     "data": {
      "text/html": [
       "<div>\n",
       "<style scoped>\n",
       "    .dataframe tbody tr th:only-of-type {\n",
       "        vertical-align: middle;\n",
       "    }\n",
       "\n",
       "    .dataframe tbody tr th {\n",
       "        vertical-align: top;\n",
       "    }\n",
       "\n",
       "    .dataframe thead th {\n",
       "        text-align: right;\n",
       "    }\n",
       "</style>\n",
       "<table border=\"1\" class=\"dataframe\">\n",
       "  <thead>\n",
       "    <tr style=\"text-align: right;\">\n",
       "      <th></th>\n",
       "      <th>INDEX</th>\n",
       "      <th>EXAM SCORE</th>\n",
       "      <th>GRANT</th>\n",
       "    </tr>\n",
       "  </thead>\n",
       "  <tbody>\n",
       "    <tr>\n",
       "      <th>INDEX</th>\n",
       "      <td>1.000000</td>\n",
       "      <td>-0.982521</td>\n",
       "      <td>-0.763065</td>\n",
       "    </tr>\n",
       "    <tr>\n",
       "      <th>EXAM SCORE</th>\n",
       "      <td>-0.982521</td>\n",
       "      <td>1.000000</td>\n",
       "      <td>0.720069</td>\n",
       "    </tr>\n",
       "    <tr>\n",
       "      <th>GRANT</th>\n",
       "      <td>-0.763065</td>\n",
       "      <td>0.720069</td>\n",
       "      <td>1.000000</td>\n",
       "    </tr>\n",
       "  </tbody>\n",
       "</table>\n",
       "</div>"
      ],
      "text/plain": [
       "               INDEX  EXAM SCORE     GRANT\n",
       "INDEX       1.000000   -0.982521 -0.763065\n",
       "EXAM SCORE -0.982521    1.000000  0.720069\n",
       "GRANT      -0.763065    0.720069  1.000000"
      ]
     },
     "execution_count": 34,
     "metadata": {},
     "output_type": "execute_result"
    }
   ],
   "source": [
    "#checking outlier of dataset\n",
    "num_df=df2.select_dtypes(include=np.number)\n",
    "num_df.corr()"
   ]
  },
  {
   "cell_type": "markdown",
   "id": "6260cadb-f457-43ba-a74c-be6841ddeb5b",
   "metadata": {},
   "source": [
    "- exam score and grant eature is strongly coreleated with each other."
   ]
  },
  {
   "cell_type": "code",
   "execution_count": 36,
   "id": "7b93fb9b-5a52-47cd-a2e5-512e96dea418",
   "metadata": {},
   "outputs": [],
   "source": [
    "\n",
    "# Impute missing values with the mode (most frequent value)\n",
    "mode_departments = df2['DEPARTMENTS'].mode()[0]\n",
    "df2['DEPARTMENTS'].fillna(mode_departments, inplace=True)\n"
   ]
  },
  {
   "cell_type": "code",
   "execution_count": 37,
   "id": "9bd378f4-e61d-419f-ba60-9d43707cb5f0",
   "metadata": {},
   "outputs": [
    {
     "data": {
      "text/plain": [
       "INDEX           0\n",
       "COUNTRIES       0\n",
       "UNIVERSITIES    0\n",
       "FACULTIES       0\n",
       "DEPARTMENTS     0\n",
       "EXAM SCORE      0\n",
       "GRANT           0\n",
       "dtype: int64"
      ]
     },
     "execution_count": 37,
     "metadata": {},
     "output_type": "execute_result"
    }
   ],
   "source": [
    "df2.isna().sum()"
   ]
  },
  {
   "cell_type": "markdown",
   "id": "4116c548-3a0f-4765-b3ef-ec30d321524f",
   "metadata": {},
   "source": [
    "- missing value has been imputed."
   ]
  },
  {
   "cell_type": "code",
   "execution_count": 39,
   "id": "4623765b-c52a-4e23-84ee-e4a07e2bbde4",
   "metadata": {},
   "outputs": [],
   "source": [
    "# removing extra features\n",
    "df2 = df2.drop([\"INDEX\", \"UNIVERSITIES\"], axis=1)\n",
    "\n"
   ]
  },
  {
   "cell_type": "code",
   "execution_count": 40,
   "id": "f72f1c9f-8c57-4d63-a3b4-9c9307782827",
   "metadata": {},
   "outputs": [],
   "source": [
    "# Droping into X and y\n",
    "X=df2.drop(\"GRANT\",axis=1)\n",
    "y=df2[\"GRANT\"]\n",
    "# creating one hote encoding\n",
    "X=pd.get_dummies(X,columns=[\"COUNTRIES\",\"FACULTIES\",\"DEPARTMENTS\",])\n"
   ]
  },
  {
   "cell_type": "code",
   "execution_count": 41,
   "id": "556695f8-1f14-4a13-9a5f-b941b0f95f7e",
   "metadata": {},
   "outputs": [],
   "source": [
    "# Define a dictionary to map True/False to 1/0\n",
    "t_p = {True: 1, False: 0}\n",
    "\n",
    "# Use replace to map boolean values to integers\n",
    "X = X.replace(t_p)"
   ]
  },
  {
   "cell_type": "code",
   "execution_count": 42,
   "id": "8ac92070-1b99-44be-ba74-2e1f8702fe07",
   "metadata": {},
   "outputs": [
    {
     "data": {
      "text/plain": [
       "((341, 92), (341,))"
      ]
     },
     "execution_count": 42,
     "metadata": {},
     "output_type": "execute_result"
    }
   ],
   "source": [
    "X.shape,y.shape"
   ]
  },
  {
   "cell_type": "markdown",
   "id": "f4c74e38-a825-4d27-8952-47afbaaa5ba5",
   "metadata": {},
   "source": [
    "#### Spliting data"
   ]
  },
  {
   "cell_type": "code",
   "execution_count": 44,
   "id": "412a5dc0-cabc-4575-be55-d0ddcaf2d104",
   "metadata": {},
   "outputs": [
    {
     "name": "stdout",
     "output_type": "stream",
     "text": [
      "X_train shape: (272, 92)\n",
      "X_test shape: (69, 92)\n",
      "y_train shape: (272,)\n",
      "y_test shape: (69,)\n"
     ]
    }
   ],
   "source": [
    "# Split data into training and testing sets\n",
    "X_train, X_test, y_train, y_test = train_test_split(X, y, test_size=0.2, random_state=42)\n",
    "\n",
    "# Print shapes of the split datasets\n",
    "print(\"X_train shape:\", X_train.shape)\n",
    "print(\"X_test shape:\", X_test.shape)\n",
    "print(\"y_train shape:\", y_train.shape)\n",
    "print(\"y_test shape:\", y_test.shape)"
   ]
  },
  {
   "cell_type": "code",
   "execution_count": 45,
   "id": "76071817-0295-474a-b362-84ea0d347a52",
   "metadata": {},
   "outputs": [
    {
     "name": "stdout",
     "output_type": "stream",
     "text": [
      "Decision Tree Accuracy: 0.7458 (±0.2047)\n",
      "AdaBoost Accuracy: 0.7193 (±0.1905)\n",
      "Gradient Boosting Accuracy: 0.7193 (±0.1914)\n",
      "Logistic Regression Accuracy: 0.8248 (±0.1456)\n"
     ]
    }
   ],
   "source": [
    "# checking cross validation\n",
    "# Initialize classifiers\n",
    "dt_classifier = DecisionTreeClassifier()\n",
    "ada_classifier = AdaBoostClassifier(base_estimator=DecisionTreeClassifier(), n_estimators=50)\n",
    "gb_classifier = GradientBoostingClassifier()\n",
    "lr_classifier = LogisticRegression()\n",
    "\n",
    "# List of classifiers\n",
    "classifiers = [dt_classifier, ada_classifier, gb_classifier, lr_classifier]\n",
    "classifier_names = ['Decision Tree', 'AdaBoost', 'Gradient Boosting', 'Logistic Regression']\n",
    "\n",
    "# Perform cross-validation for each classifier\n",
    "for classifier, name in zip(classifiers, classifier_names):\n",
    "    scores = cross_val_score(classifier, X, y, cv=5)  # 5-fold cross-validation\n",
    "    print(f'{name} Accuracy: {scores.mean():.4f} (±{scores.std():.4f})')\n"
   ]
  },
  {
   "cell_type": "markdown",
   "id": "319a495c-2f1b-4a38-b32c-a785875c065c",
   "metadata": {},
   "source": [
    "- lets tune logistic regression."
   ]
  },
  {
   "cell_type": "code",
   "execution_count": 47,
   "id": "1a8fb98b-9f92-4b2e-8528-9c5a07e4faec",
   "metadata": {},
   "outputs": [
    {
     "data": {
      "text/html": [
       "<style>#sk-container-id-1 {color: black;background-color: white;}#sk-container-id-1 pre{padding: 0;}#sk-container-id-1 div.sk-toggleable {background-color: white;}#sk-container-id-1 label.sk-toggleable__label {cursor: pointer;display: block;width: 100%;margin-bottom: 0;padding: 0.3em;box-sizing: border-box;text-align: center;}#sk-container-id-1 label.sk-toggleable__label-arrow:before {content: \"▸\";float: left;margin-right: 0.25em;color: #696969;}#sk-container-id-1 label.sk-toggleable__label-arrow:hover:before {color: black;}#sk-container-id-1 div.sk-estimator:hover label.sk-toggleable__label-arrow:before {color: black;}#sk-container-id-1 div.sk-toggleable__content {max-height: 0;max-width: 0;overflow: hidden;text-align: left;background-color: #f0f8ff;}#sk-container-id-1 div.sk-toggleable__content pre {margin: 0.2em;color: black;border-radius: 0.25em;background-color: #f0f8ff;}#sk-container-id-1 input.sk-toggleable__control:checked~div.sk-toggleable__content {max-height: 200px;max-width: 100%;overflow: auto;}#sk-container-id-1 input.sk-toggleable__control:checked~label.sk-toggleable__label-arrow:before {content: \"▾\";}#sk-container-id-1 div.sk-estimator input.sk-toggleable__control:checked~label.sk-toggleable__label {background-color: #d4ebff;}#sk-container-id-1 div.sk-label input.sk-toggleable__control:checked~label.sk-toggleable__label {background-color: #d4ebff;}#sk-container-id-1 input.sk-hidden--visually {border: 0;clip: rect(1px 1px 1px 1px);clip: rect(1px, 1px, 1px, 1px);height: 1px;margin: -1px;overflow: hidden;padding: 0;position: absolute;width: 1px;}#sk-container-id-1 div.sk-estimator {font-family: monospace;background-color: #f0f8ff;border: 1px dotted black;border-radius: 0.25em;box-sizing: border-box;margin-bottom: 0.5em;}#sk-container-id-1 div.sk-estimator:hover {background-color: #d4ebff;}#sk-container-id-1 div.sk-parallel-item::after {content: \"\";width: 100%;border-bottom: 1px solid gray;flex-grow: 1;}#sk-container-id-1 div.sk-label:hover label.sk-toggleable__label {background-color: #d4ebff;}#sk-container-id-1 div.sk-serial::before {content: \"\";position: absolute;border-left: 1px solid gray;box-sizing: border-box;top: 0;bottom: 0;left: 50%;z-index: 0;}#sk-container-id-1 div.sk-serial {display: flex;flex-direction: column;align-items: center;background-color: white;padding-right: 0.2em;padding-left: 0.2em;position: relative;}#sk-container-id-1 div.sk-item {position: relative;z-index: 1;}#sk-container-id-1 div.sk-parallel {display: flex;align-items: stretch;justify-content: center;background-color: white;position: relative;}#sk-container-id-1 div.sk-item::before, #sk-container-id-1 div.sk-parallel-item::before {content: \"\";position: absolute;border-left: 1px solid gray;box-sizing: border-box;top: 0;bottom: 0;left: 50%;z-index: -1;}#sk-container-id-1 div.sk-parallel-item {display: flex;flex-direction: column;z-index: 1;position: relative;background-color: white;}#sk-container-id-1 div.sk-parallel-item:first-child::after {align-self: flex-end;width: 50%;}#sk-container-id-1 div.sk-parallel-item:last-child::after {align-self: flex-start;width: 50%;}#sk-container-id-1 div.sk-parallel-item:only-child::after {width: 0;}#sk-container-id-1 div.sk-dashed-wrapped {border: 1px dashed gray;margin: 0 0.4em 0.5em 0.4em;box-sizing: border-box;padding-bottom: 0.4em;background-color: white;}#sk-container-id-1 div.sk-label label {font-family: monospace;font-weight: bold;display: inline-block;line-height: 1.2em;}#sk-container-id-1 div.sk-label-container {text-align: center;}#sk-container-id-1 div.sk-container {/* jupyter's `normalize.less` sets `[hidden] { display: none; }` but bootstrap.min.css set `[hidden] { display: none !important; }` so we also need the `!important` here to be able to override the default hidden behavior on the sphinx rendered scikit-learn.org. See: https://github.com/scikit-learn/scikit-learn/issues/21755 */display: inline-block !important;position: relative;}#sk-container-id-1 div.sk-text-repr-fallback {display: none;}</style><div id=\"sk-container-id-1\" class=\"sk-top-container\"><div class=\"sk-text-repr-fallback\"><pre>LogisticRegression()</pre><b>In a Jupyter environment, please rerun this cell to show the HTML representation or trust the notebook. <br />On GitHub, the HTML representation is unable to render, please try loading this page with nbviewer.org.</b></div><div class=\"sk-container\" hidden><div class=\"sk-item\"><div class=\"sk-estimator sk-toggleable\"><input class=\"sk-toggleable__control sk-hidden--visually\" id=\"sk-estimator-id-1\" type=\"checkbox\" checked><label for=\"sk-estimator-id-1\" class=\"sk-toggleable__label sk-toggleable__label-arrow\">LogisticRegression</label><div class=\"sk-toggleable__content\"><pre>LogisticRegression()</pre></div></div></div></div></div>"
      ],
      "text/plain": [
       "LogisticRegression()"
      ]
     },
     "execution_count": 47,
     "metadata": {},
     "output_type": "execute_result"
    }
   ],
   "source": [
    "model = LogisticRegression()\n",
    "\n",
    "# Fit the model on the training data\n",
    "model.fit(X_train, y_train)"
   ]
  },
  {
   "cell_type": "code",
   "execution_count": 48,
   "id": "d0bc54ca-69cf-460b-9169-08c62127511d",
   "metadata": {},
   "outputs": [
    {
     "name": "stdout",
     "output_type": "stream",
     "text": [
      "Accuracy: 0.9596\n",
      "Precision: 0.9643\n",
      "recall: 0.9391\n",
      "f1: 0.9515\n"
     ]
    }
   ],
   "source": [
    "# Assuming model.predict(X_train) gives the predicted labels\n",
    "y_pred = model.predict(X_train)\n",
    "\n",
    "# Calculate accuracy\n",
    "accuracy = accuracy_score(y_train, y_pred)\n",
    "precision=precision_score(y_train,y_pred)\n",
    "recall=recall_score(y_train,y_pred)\n",
    "f1=f1_score(y_train,y_pred)\n",
    "print(f'Accuracy: {accuracy:.4f}')\n",
    "print(f'Precision: {precision:.4f}')\n",
    "print(f'recall: {recall:.4f}')\n",
    "print(f'f1: {f1:.4f}')"
   ]
  },
  {
   "cell_type": "markdown",
   "id": "92c3928d-e627-4f3d-9b6b-88e9d41b8d57",
   "metadata": {},
   "source": [
    "- we get 95% of accuracy,96% precision,93% recall,f1_score is 95%\n",
    "- lets check it into test set"
   ]
  },
  {
   "cell_type": "code",
   "execution_count": 50,
   "id": "d3966255-5191-4fdc-ad08-64fc40230b46",
   "metadata": {},
   "outputs": [
    {
     "name": "stdout",
     "output_type": "stream",
     "text": [
      "Accuracy: 0.8986\n",
      "Precision: 0.9333\n",
      "recall: 0.8485\n",
      "f1: 0.8889\n"
     ]
    }
   ],
   "source": [
    "# Assuming model.predict(X_test) gives the predicted labels\n",
    "y_pred = model.predict(X_test)\n",
    "\n",
    "# Calculate accuracy\n",
    "accuracy = accuracy_score(y_test, y_pred)\n",
    "precision=precision_score(y_test,y_pred)\n",
    "recall=recall_score(y_test,y_pred)\n",
    "f1=f1_score(y_test,y_pred)\n",
    "print(f'Accuracy: {accuracy:.4f}')\n",
    "print(f'Precision: {precision:.4f}')\n",
    "print(f'recall: {recall:.4f}')\n",
    "print(f'f1: {f1:.4f}')"
   ]
  },
  {
   "cell_type": "markdown",
   "id": "e2b8ed35-e634-4562-8d1f-5f0062a421bc",
   "metadata": {},
   "source": [
    "- model is overfit\n",
    "- lets check other model."
   ]
  },
  {
   "cell_type": "code",
   "execution_count": 52,
   "id": "a0e73977-00c3-40a7-a0c1-96dab01f184f",
   "metadata": {},
   "outputs": [
    {
     "data": {
      "text/html": [
       "<style>#sk-container-id-2 {color: black;background-color: white;}#sk-container-id-2 pre{padding: 0;}#sk-container-id-2 div.sk-toggleable {background-color: white;}#sk-container-id-2 label.sk-toggleable__label {cursor: pointer;display: block;width: 100%;margin-bottom: 0;padding: 0.3em;box-sizing: border-box;text-align: center;}#sk-container-id-2 label.sk-toggleable__label-arrow:before {content: \"▸\";float: left;margin-right: 0.25em;color: #696969;}#sk-container-id-2 label.sk-toggleable__label-arrow:hover:before {color: black;}#sk-container-id-2 div.sk-estimator:hover label.sk-toggleable__label-arrow:before {color: black;}#sk-container-id-2 div.sk-toggleable__content {max-height: 0;max-width: 0;overflow: hidden;text-align: left;background-color: #f0f8ff;}#sk-container-id-2 div.sk-toggleable__content pre {margin: 0.2em;color: black;border-radius: 0.25em;background-color: #f0f8ff;}#sk-container-id-2 input.sk-toggleable__control:checked~div.sk-toggleable__content {max-height: 200px;max-width: 100%;overflow: auto;}#sk-container-id-2 input.sk-toggleable__control:checked~label.sk-toggleable__label-arrow:before {content: \"▾\";}#sk-container-id-2 div.sk-estimator input.sk-toggleable__control:checked~label.sk-toggleable__label {background-color: #d4ebff;}#sk-container-id-2 div.sk-label input.sk-toggleable__control:checked~label.sk-toggleable__label {background-color: #d4ebff;}#sk-container-id-2 input.sk-hidden--visually {border: 0;clip: rect(1px 1px 1px 1px);clip: rect(1px, 1px, 1px, 1px);height: 1px;margin: -1px;overflow: hidden;padding: 0;position: absolute;width: 1px;}#sk-container-id-2 div.sk-estimator {font-family: monospace;background-color: #f0f8ff;border: 1px dotted black;border-radius: 0.25em;box-sizing: border-box;margin-bottom: 0.5em;}#sk-container-id-2 div.sk-estimator:hover {background-color: #d4ebff;}#sk-container-id-2 div.sk-parallel-item::after {content: \"\";width: 100%;border-bottom: 1px solid gray;flex-grow: 1;}#sk-container-id-2 div.sk-label:hover label.sk-toggleable__label {background-color: #d4ebff;}#sk-container-id-2 div.sk-serial::before {content: \"\";position: absolute;border-left: 1px solid gray;box-sizing: border-box;top: 0;bottom: 0;left: 50%;z-index: 0;}#sk-container-id-2 div.sk-serial {display: flex;flex-direction: column;align-items: center;background-color: white;padding-right: 0.2em;padding-left: 0.2em;position: relative;}#sk-container-id-2 div.sk-item {position: relative;z-index: 1;}#sk-container-id-2 div.sk-parallel {display: flex;align-items: stretch;justify-content: center;background-color: white;position: relative;}#sk-container-id-2 div.sk-item::before, #sk-container-id-2 div.sk-parallel-item::before {content: \"\";position: absolute;border-left: 1px solid gray;box-sizing: border-box;top: 0;bottom: 0;left: 50%;z-index: -1;}#sk-container-id-2 div.sk-parallel-item {display: flex;flex-direction: column;z-index: 1;position: relative;background-color: white;}#sk-container-id-2 div.sk-parallel-item:first-child::after {align-self: flex-end;width: 50%;}#sk-container-id-2 div.sk-parallel-item:last-child::after {align-self: flex-start;width: 50%;}#sk-container-id-2 div.sk-parallel-item:only-child::after {width: 0;}#sk-container-id-2 div.sk-dashed-wrapped {border: 1px dashed gray;margin: 0 0.4em 0.5em 0.4em;box-sizing: border-box;padding-bottom: 0.4em;background-color: white;}#sk-container-id-2 div.sk-label label {font-family: monospace;font-weight: bold;display: inline-block;line-height: 1.2em;}#sk-container-id-2 div.sk-label-container {text-align: center;}#sk-container-id-2 div.sk-container {/* jupyter's `normalize.less` sets `[hidden] { display: none; }` but bootstrap.min.css set `[hidden] { display: none !important; }` so we also need the `!important` here to be able to override the default hidden behavior on the sphinx rendered scikit-learn.org. See: https://github.com/scikit-learn/scikit-learn/issues/21755 */display: inline-block !important;position: relative;}#sk-container-id-2 div.sk-text-repr-fallback {display: none;}</style><div id=\"sk-container-id-2\" class=\"sk-top-container\"><div class=\"sk-text-repr-fallback\"><pre>GradientBoostingClassifier(random_state=42)</pre><b>In a Jupyter environment, please rerun this cell to show the HTML representation or trust the notebook. <br />On GitHub, the HTML representation is unable to render, please try loading this page with nbviewer.org.</b></div><div class=\"sk-container\" hidden><div class=\"sk-item\"><div class=\"sk-estimator sk-toggleable\"><input class=\"sk-toggleable__control sk-hidden--visually\" id=\"sk-estimator-id-2\" type=\"checkbox\" checked><label for=\"sk-estimator-id-2\" class=\"sk-toggleable__label sk-toggleable__label-arrow\">GradientBoostingClassifier</label><div class=\"sk-toggleable__content\"><pre>GradientBoostingClassifier(random_state=42)</pre></div></div></div></div></div>"
      ],
      "text/plain": [
       "GradientBoostingClassifier(random_state=42)"
      ]
     },
     "execution_count": 52,
     "metadata": {},
     "output_type": "execute_result"
    }
   ],
   "source": [
    "# Initialize GradientBoostingClassifier\n",
    "gb_clf = GradientBoostingClassifier(random_state=42)\n",
    "\n",
    "# Train the model\n",
    "gb_clf.fit(X_train, y_train)\n"
   ]
  },
  {
   "cell_type": "code",
   "execution_count": 53,
   "id": "ac6dcd14-7d53-4240-bdc6-d58c86f86e3c",
   "metadata": {},
   "outputs": [
    {
     "name": "stdout",
     "output_type": "stream",
     "text": [
      "Accuracy: 1.0000\n",
      "Precision: 1.0000\n",
      "recall: 1.0000\n",
      "f1: 1.0000\n"
     ]
    }
   ],
   "source": [
    "# Assuming model.predict(X_test) gives the predicted labels\n",
    "y_pred = gb_clf.predict(X_train)\n",
    "\n",
    "# Calculate accuracy\n",
    "accuracy = accuracy_score(y_train, y_pred)\n",
    "precision=precision_score(y_train,y_pred)\n",
    "recall=recall_score(y_train,y_pred)\n",
    "f1=f1_score(y_train,y_pred)\n",
    "print(f'Accuracy: {accuracy:.4f}')\n",
    "print(f'Precision: {precision:.4f}')\n",
    "print(f'recall: {recall:.4f}')\n",
    "print(f'f1: {f1:.4f}')"
   ]
  },
  {
   "cell_type": "code",
   "execution_count": 54,
   "id": "a82c6713-2763-407f-a45a-e00537f6dd26",
   "metadata": {},
   "outputs": [
    {
     "name": "stdout",
     "output_type": "stream",
     "text": [
      "Accuracy: 0.9565\n",
      "Precision: 0.9688\n",
      "recall: 0.9394\n",
      "f1: 0.9538\n"
     ]
    }
   ],
   "source": [
    "# Assuming model.predict(X_test) gives the predicted labels\n",
    "y_pred = gb_clf.predict(X_test)\n",
    "\n",
    "# Calculate accuracy\n",
    "accuracy = accuracy_score(y_test, y_pred)\n",
    "precision=precision_score(y_test,y_pred)\n",
    "recall=recall_score(y_test,y_pred)\n",
    "f1=f1_score(y_test,y_pred)\n",
    "print(f'Accuracy: {accuracy:.4f}')\n",
    "print(f'Precision: {precision:.4f}')\n",
    "print(f'recall: {recall:.4f}')\n",
    "print(f'f1: {f1:.4f}')"
   ]
  },
  {
   "cell_type": "code",
   "execution_count": 55,
   "id": "2a393a20-1c59-4224-8ac0-8cba3547f261",
   "metadata": {},
   "outputs": [
    {
     "data": {
      "text/html": [
       "<style>#sk-container-id-3 {color: black;background-color: white;}#sk-container-id-3 pre{padding: 0;}#sk-container-id-3 div.sk-toggleable {background-color: white;}#sk-container-id-3 label.sk-toggleable__label {cursor: pointer;display: block;width: 100%;margin-bottom: 0;padding: 0.3em;box-sizing: border-box;text-align: center;}#sk-container-id-3 label.sk-toggleable__label-arrow:before {content: \"▸\";float: left;margin-right: 0.25em;color: #696969;}#sk-container-id-3 label.sk-toggleable__label-arrow:hover:before {color: black;}#sk-container-id-3 div.sk-estimator:hover label.sk-toggleable__label-arrow:before {color: black;}#sk-container-id-3 div.sk-toggleable__content {max-height: 0;max-width: 0;overflow: hidden;text-align: left;background-color: #f0f8ff;}#sk-container-id-3 div.sk-toggleable__content pre {margin: 0.2em;color: black;border-radius: 0.25em;background-color: #f0f8ff;}#sk-container-id-3 input.sk-toggleable__control:checked~div.sk-toggleable__content {max-height: 200px;max-width: 100%;overflow: auto;}#sk-container-id-3 input.sk-toggleable__control:checked~label.sk-toggleable__label-arrow:before {content: \"▾\";}#sk-container-id-3 div.sk-estimator input.sk-toggleable__control:checked~label.sk-toggleable__label {background-color: #d4ebff;}#sk-container-id-3 div.sk-label input.sk-toggleable__control:checked~label.sk-toggleable__label {background-color: #d4ebff;}#sk-container-id-3 input.sk-hidden--visually {border: 0;clip: rect(1px 1px 1px 1px);clip: rect(1px, 1px, 1px, 1px);height: 1px;margin: -1px;overflow: hidden;padding: 0;position: absolute;width: 1px;}#sk-container-id-3 div.sk-estimator {font-family: monospace;background-color: #f0f8ff;border: 1px dotted black;border-radius: 0.25em;box-sizing: border-box;margin-bottom: 0.5em;}#sk-container-id-3 div.sk-estimator:hover {background-color: #d4ebff;}#sk-container-id-3 div.sk-parallel-item::after {content: \"\";width: 100%;border-bottom: 1px solid gray;flex-grow: 1;}#sk-container-id-3 div.sk-label:hover label.sk-toggleable__label {background-color: #d4ebff;}#sk-container-id-3 div.sk-serial::before {content: \"\";position: absolute;border-left: 1px solid gray;box-sizing: border-box;top: 0;bottom: 0;left: 50%;z-index: 0;}#sk-container-id-3 div.sk-serial {display: flex;flex-direction: column;align-items: center;background-color: white;padding-right: 0.2em;padding-left: 0.2em;position: relative;}#sk-container-id-3 div.sk-item {position: relative;z-index: 1;}#sk-container-id-3 div.sk-parallel {display: flex;align-items: stretch;justify-content: center;background-color: white;position: relative;}#sk-container-id-3 div.sk-item::before, #sk-container-id-3 div.sk-parallel-item::before {content: \"\";position: absolute;border-left: 1px solid gray;box-sizing: border-box;top: 0;bottom: 0;left: 50%;z-index: -1;}#sk-container-id-3 div.sk-parallel-item {display: flex;flex-direction: column;z-index: 1;position: relative;background-color: white;}#sk-container-id-3 div.sk-parallel-item:first-child::after {align-self: flex-end;width: 50%;}#sk-container-id-3 div.sk-parallel-item:last-child::after {align-self: flex-start;width: 50%;}#sk-container-id-3 div.sk-parallel-item:only-child::after {width: 0;}#sk-container-id-3 div.sk-dashed-wrapped {border: 1px dashed gray;margin: 0 0.4em 0.5em 0.4em;box-sizing: border-box;padding-bottom: 0.4em;background-color: white;}#sk-container-id-3 div.sk-label label {font-family: monospace;font-weight: bold;display: inline-block;line-height: 1.2em;}#sk-container-id-3 div.sk-label-container {text-align: center;}#sk-container-id-3 div.sk-container {/* jupyter's `normalize.less` sets `[hidden] { display: none; }` but bootstrap.min.css set `[hidden] { display: none !important; }` so we also need the `!important` here to be able to override the default hidden behavior on the sphinx rendered scikit-learn.org. See: https://github.com/scikit-learn/scikit-learn/issues/21755 */display: inline-block !important;position: relative;}#sk-container-id-3 div.sk-text-repr-fallback {display: none;}</style><div id=\"sk-container-id-3\" class=\"sk-top-container\"><div class=\"sk-text-repr-fallback\"><pre>AdaBoostClassifier(base_estimator=DecisionTreeClassifier(), random_state=42)</pre><b>In a Jupyter environment, please rerun this cell to show the HTML representation or trust the notebook. <br />On GitHub, the HTML representation is unable to render, please try loading this page with nbviewer.org.</b></div><div class=\"sk-container\" hidden><div class=\"sk-item sk-dashed-wrapped\"><div class=\"sk-label-container\"><div class=\"sk-label sk-toggleable\"><input class=\"sk-toggleable__control sk-hidden--visually\" id=\"sk-estimator-id-3\" type=\"checkbox\" ><label for=\"sk-estimator-id-3\" class=\"sk-toggleable__label sk-toggleable__label-arrow\">AdaBoostClassifier</label><div class=\"sk-toggleable__content\"><pre>AdaBoostClassifier(base_estimator=DecisionTreeClassifier(), random_state=42)</pre></div></div></div><div class=\"sk-parallel\"><div class=\"sk-parallel-item\"><div class=\"sk-item\"><div class=\"sk-label-container\"><div class=\"sk-label sk-toggleable\"><input class=\"sk-toggleable__control sk-hidden--visually\" id=\"sk-estimator-id-4\" type=\"checkbox\" ><label for=\"sk-estimator-id-4\" class=\"sk-toggleable__label sk-toggleable__label-arrow\">base_estimator: DecisionTreeClassifier</label><div class=\"sk-toggleable__content\"><pre>DecisionTreeClassifier()</pre></div></div></div><div class=\"sk-serial\"><div class=\"sk-item\"><div class=\"sk-estimator sk-toggleable\"><input class=\"sk-toggleable__control sk-hidden--visually\" id=\"sk-estimator-id-5\" type=\"checkbox\" ><label for=\"sk-estimator-id-5\" class=\"sk-toggleable__label sk-toggleable__label-arrow\">DecisionTreeClassifier</label><div class=\"sk-toggleable__content\"><pre>DecisionTreeClassifier()</pre></div></div></div></div></div></div></div></div></div></div>"
      ],
      "text/plain": [
       "AdaBoostClassifier(base_estimator=DecisionTreeClassifier(), random_state=42)"
      ]
     },
     "execution_count": 55,
     "metadata": {},
     "output_type": "execute_result"
    }
   ],
   "source": [
    "# Initialize GradientBoostingClassifier\n",
    "ada = AdaBoostClassifier(base_estimator=DecisionTreeClassifier(), n_estimators=50,random_state=42)\n",
    "\n",
    "# Train the model\n",
    "ada.fit(X_train, y_train)\n"
   ]
  },
  {
   "cell_type": "code",
   "execution_count": 56,
   "id": "1d6abf67-a701-4493-9356-8dea607768f2",
   "metadata": {},
   "outputs": [
    {
     "name": "stdout",
     "output_type": "stream",
     "text": [
      "Accuracy: 1.0000\n",
      "Precision: 1.0000\n",
      "recall: 1.0000\n",
      "f1: 1.0000\n"
     ]
    }
   ],
   "source": [
    "# Assuming model.predict(X_test) gives the predicted labels\n",
    "y_pred = ada.predict(X_train)\n",
    "\n",
    "# Calculate accuracy\n",
    "accuracy = accuracy_score(y_train, y_pred)\n",
    "precision=precision_score(y_train,y_pred)\n",
    "recall=recall_score(y_train,y_pred)\n",
    "f1=f1_score(y_train,y_pred)\n",
    "print(f'Accuracy: {accuracy:.4f}')\n",
    "print(f'Precision: {precision:.4f}')\n",
    "print(f'recall: {recall:.4f}')\n",
    "print(f'f1: {f1:.4f}')"
   ]
  },
  {
   "cell_type": "code",
   "execution_count": 100,
   "id": "a3f1da66-f694-467c-b8ce-24d19b25789d",
   "metadata": {},
   "outputs": [
    {
     "name": "stdout",
     "output_type": "stream",
     "text": [
      "Accuracy: 0.9420\n",
      "Precision: 0.9394\n",
      "recall: 0.9394\n",
      "f1: 0.9394\n"
     ]
    }
   ],
   "source": [
    "# Assuming model.predict(X_test) gives the predicted labels\n",
    "y_pred = ada.predict(X_test)\n",
    "\n",
    "# Calculate accuracy\n",
    "accuracy = accuracy_score(y_test, y_pred)\n",
    "precision=precision_score(y_test,y_pred)\n",
    "recall=recall_score(y_test,y_pred)\n",
    "f1=f1_score(y_test,y_pred)\n",
    "print(f'Accuracy: {accuracy:.4f}')\n",
    "print(f'Precision: {precision:.4f}')\n",
    "print(f'recall: {recall:.4f}')\n",
    "print(f'f1: {f1:.4f}')"
   ]
  },
  {
   "cell_type": "markdown",
   "id": "59e2392d-41d5-4143-9836-db2391107c49",
   "metadata": {},
   "source": [
    "#### lets regulize model"
   ]
  },
  {
   "cell_type": "code",
   "execution_count": 134,
   "id": "4c046dd3-0699-4a89-8d21-02f49c11549e",
   "metadata": {},
   "outputs": [
    {
     "data": {
      "text/html": [
       "<style>#sk-container-id-9 {color: black;background-color: white;}#sk-container-id-9 pre{padding: 0;}#sk-container-id-9 div.sk-toggleable {background-color: white;}#sk-container-id-9 label.sk-toggleable__label {cursor: pointer;display: block;width: 100%;margin-bottom: 0;padding: 0.3em;box-sizing: border-box;text-align: center;}#sk-container-id-9 label.sk-toggleable__label-arrow:before {content: \"▸\";float: left;margin-right: 0.25em;color: #696969;}#sk-container-id-9 label.sk-toggleable__label-arrow:hover:before {color: black;}#sk-container-id-9 div.sk-estimator:hover label.sk-toggleable__label-arrow:before {color: black;}#sk-container-id-9 div.sk-toggleable__content {max-height: 0;max-width: 0;overflow: hidden;text-align: left;background-color: #f0f8ff;}#sk-container-id-9 div.sk-toggleable__content pre {margin: 0.2em;color: black;border-radius: 0.25em;background-color: #f0f8ff;}#sk-container-id-9 input.sk-toggleable__control:checked~div.sk-toggleable__content {max-height: 200px;max-width: 100%;overflow: auto;}#sk-container-id-9 input.sk-toggleable__control:checked~label.sk-toggleable__label-arrow:before {content: \"▾\";}#sk-container-id-9 div.sk-estimator input.sk-toggleable__control:checked~label.sk-toggleable__label {background-color: #d4ebff;}#sk-container-id-9 div.sk-label input.sk-toggleable__control:checked~label.sk-toggleable__label {background-color: #d4ebff;}#sk-container-id-9 input.sk-hidden--visually {border: 0;clip: rect(1px 1px 1px 1px);clip: rect(1px, 1px, 1px, 1px);height: 1px;margin: -1px;overflow: hidden;padding: 0;position: absolute;width: 1px;}#sk-container-id-9 div.sk-estimator {font-family: monospace;background-color: #f0f8ff;border: 1px dotted black;border-radius: 0.25em;box-sizing: border-box;margin-bottom: 0.5em;}#sk-container-id-9 div.sk-estimator:hover {background-color: #d4ebff;}#sk-container-id-9 div.sk-parallel-item::after {content: \"\";width: 100%;border-bottom: 1px solid gray;flex-grow: 1;}#sk-container-id-9 div.sk-label:hover label.sk-toggleable__label {background-color: #d4ebff;}#sk-container-id-9 div.sk-serial::before {content: \"\";position: absolute;border-left: 1px solid gray;box-sizing: border-box;top: 0;bottom: 0;left: 50%;z-index: 0;}#sk-container-id-9 div.sk-serial {display: flex;flex-direction: column;align-items: center;background-color: white;padding-right: 0.2em;padding-left: 0.2em;position: relative;}#sk-container-id-9 div.sk-item {position: relative;z-index: 1;}#sk-container-id-9 div.sk-parallel {display: flex;align-items: stretch;justify-content: center;background-color: white;position: relative;}#sk-container-id-9 div.sk-item::before, #sk-container-id-9 div.sk-parallel-item::before {content: \"\";position: absolute;border-left: 1px solid gray;box-sizing: border-box;top: 0;bottom: 0;left: 50%;z-index: -1;}#sk-container-id-9 div.sk-parallel-item {display: flex;flex-direction: column;z-index: 1;position: relative;background-color: white;}#sk-container-id-9 div.sk-parallel-item:first-child::after {align-self: flex-end;width: 50%;}#sk-container-id-9 div.sk-parallel-item:last-child::after {align-self: flex-start;width: 50%;}#sk-container-id-9 div.sk-parallel-item:only-child::after {width: 0;}#sk-container-id-9 div.sk-dashed-wrapped {border: 1px dashed gray;margin: 0 0.4em 0.5em 0.4em;box-sizing: border-box;padding-bottom: 0.4em;background-color: white;}#sk-container-id-9 div.sk-label label {font-family: monospace;font-weight: bold;display: inline-block;line-height: 1.2em;}#sk-container-id-9 div.sk-label-container {text-align: center;}#sk-container-id-9 div.sk-container {/* jupyter's `normalize.less` sets `[hidden] { display: none; }` but bootstrap.min.css set `[hidden] { display: none !important; }` so we also need the `!important` here to be able to override the default hidden behavior on the sphinx rendered scikit-learn.org. See: https://github.com/scikit-learn/scikit-learn/issues/21755 */display: inline-block !important;position: relative;}#sk-container-id-9 div.sk-text-repr-fallback {display: none;}</style><div id=\"sk-container-id-9\" class=\"sk-top-container\"><div class=\"sk-text-repr-fallback\"><pre>LogisticRegression(C=0.15, random_state=42)</pre><b>In a Jupyter environment, please rerun this cell to show the HTML representation or trust the notebook. <br />On GitHub, the HTML representation is unable to render, please try loading this page with nbviewer.org.</b></div><div class=\"sk-container\" hidden><div class=\"sk-item\"><div class=\"sk-estimator sk-toggleable\"><input class=\"sk-toggleable__control sk-hidden--visually\" id=\"sk-estimator-id-11\" type=\"checkbox\" checked><label for=\"sk-estimator-id-11\" class=\"sk-toggleable__label sk-toggleable__label-arrow\">LogisticRegression</label><div class=\"sk-toggleable__content\"><pre>LogisticRegression(C=0.15, random_state=42)</pre></div></div></div></div></div>"
      ],
      "text/plain": [
       "LogisticRegression(C=0.15, random_state=42)"
      ]
     },
     "execution_count": 134,
     "metadata": {},
     "output_type": "execute_result"
    }
   ],
   "source": [
    "# Initialize LogisticRegression with L1 or L2 regularization\n",
    "log_reg = LogisticRegression(penalty='l2', C=0.15, random_state=42)\n",
    "\n",
    "# Train the model\n",
    "log_reg.fit(X_train, y_train)"
   ]
  },
  {
   "cell_type": "code",
   "execution_count": 136,
   "id": "00cb0d9c-a77a-4a0c-b607-0481fca44eb6",
   "metadata": {},
   "outputs": [
    {
     "name": "stdout",
     "output_type": "stream",
     "text": [
      "Accuracy: 0.9191\n",
      "Precision: 0.9189\n",
      "recall: 0.8870\n",
      "f1: 0.9027\n"
     ]
    }
   ],
   "source": [
    "# Assuming model.predict(X_test) gives the predicted labels\n",
    "y_pred = log_reg.predict(X_train)\n",
    "\n",
    "# Calculate accuracy\n",
    "accuracy = accuracy_score(y_train, y_pred)\n",
    "precision=precision_score(y_train,y_pred)\n",
    "recall=recall_score(y_train,y_pred)\n",
    "f1=f1_score(y_train,y_pred)\n",
    "print(f'Accuracy: {accuracy:.4f}')\n",
    "print(f'Precision: {precision:.4f}')\n",
    "print(f'recall: {recall:.4f}')\n",
    "print(f'f1: {f1:.4f}')"
   ]
  },
  {
   "cell_type": "code",
   "execution_count": 138,
   "id": "6773d1b1-fe27-45ef-95a1-8971adf2c2ef",
   "metadata": {},
   "outputs": [
    {
     "name": "stdout",
     "output_type": "stream",
     "text": [
      "Accuracy: 0.8986\n",
      "Precision: 0.8824\n",
      "recall: 0.9091\n",
      "f1: 0.8955\n"
     ]
    }
   ],
   "source": [
    "# Assuming model.predict(X_test) gives the predicted labels\n",
    "y_pred = log_reg.predict(X_test)\n",
    "\n",
    "# Calculate accuracy\n",
    "accuracy = accuracy_score(y_test, y_pred)\n",
    "precision=precision_score(y_test,y_pred)\n",
    "recall=recall_score(y_test,y_pred)\n",
    "f1=f1_score(y_test,y_pred)\n",
    "print(f'Accuracy: {accuracy:.4f}')\n",
    "print(f'Precision: {precision:.4f}')\n",
    "print(f'recall: {recall:.4f}')\n",
    "print(f'f1: {f1:.4f}')"
   ]
  },
  {
   "cell_type": "markdown",
   "id": "2f1c70b8-ced2-400b-b0ea-ca83203af62c",
   "metadata": {},
   "source": [
    "- model is not overfit .now log_reg model is generalized model."
   ]
  },
  {
   "cell_type": "code",
   "execution_count": 141,
   "id": "084cc315-f99b-4577-ad4b-d4538b662af3",
   "metadata": {},
   "outputs": [
    {
     "name": "stdout",
     "output_type": "stream",
     "text": [
      "Feature Importance:\n",
      "FACULTIES_FACULTY OF ARTS AND SCIENCES: -0.7307\n",
      "FACULTIES_FACULTY OF ENGINEERING: -0.6776\n",
      "EXAM SCORE: 0.4837\n",
      "FACULTIES_FACULTY OF LAW: 0.4171\n",
      "DEPARTMENTS_LAW: 0.4171\n",
      "DEPARTMENTS_COMPUTER ENGINEERING: -0.4131\n",
      "DEPARTMENTS_PSYCHOLOGY: -0.3420\n",
      "FACULTIES_FACULTY OF COMMUNICATION: 0.3414\n",
      "FACULTIES_FACULTY OF PHARMACY: 0.2812\n",
      "DEPARTMENTS_PHARMACY: 0.2812\n",
      "COUNTRIES_POLAND: 0.2190\n",
      "FACULTIES_GRADUATE SCHOOL OF SOCIAL SCIENCES: 0.1987\n",
      "COUNTRIES_DUTCH: -0.1968\n",
      "COUNTRIES_FRANCE: -0.1956\n",
      "COUNTRIES_LITHUANIA: 0.1936\n",
      "COUNTRIES_SPAIN: 0.1879\n",
      "DEPARTMENTS_TEXTILE AND FASHION DESIGN: 0.1502\n",
      "COUNTRIES_ROMANIA: -0.1475\n",
      "COUNTRIES_BELGIUM: 0.1464\n",
      "COUNTRIES_GERMAN: -0.1405\n",
      "DEPARTMENTS_RADIO TELEVISION AND CINEMA: 0.1341\n",
      "DEPARTMENTS_SOCIOLOGY: -0.1292\n",
      "DEPARTMENTS_PRICATE LAW: 0.1288\n",
      "DEPARTMENTS_INFORMATION SYSTEMS AND TECHNOLOGIES: 0.1225\n",
      "DEPARTMENTS_PLASTIC ARTS AND PAINTING: -0.1196\n",
      "DEPARTMENTS_NUTRITION AND DIETETICS: 0.1172\n",
      "COUNTRIES_DENMARK: -0.1052\n",
      "COUNTRIES_SWEDISH: -0.1023\n",
      "DEPARTMENTS_CIVIL ENGINEERING: -0.1001\n",
      "DEPARTMENTS_ENGLISH LANGUAGE AND LITERATURE: -0.0953\n",
      "DEPARTMENTS_MECHANICAL ENGINEERING: -0.0896\n",
      "COUNTRIES_ITALIA: 0.0896\n",
      "COUNTRIES_PORTUGUESE: 0.0825\n",
      "DEPARTMENTS_CHEMICAL ENGINEERING: -0.0822\n",
      "DEPARTMENTS_ENGLISH LANGUAGE TEACHING: 0.0811\n",
      "DEPARTMENTS_PUBLIC RELATIONS AND PUBLICITY: 0.0788\n",
      "DEPARTMENTS_JOURNALISM: 0.0760\n",
      "COUNTRIES_HUNGARY: 0.0751\n",
      "DEPARTMENTS_PHYSIOTHERAPY AND REHABILITATION: -0.0736\n",
      "DEPARTMENTS_TRANSLATION AND INTERPRETING STUDIES: -0.0685\n",
      "DEPARTMENTS_INDUSTRIAL ENGINEERING: -0.0641\n",
      "COUNTRIES_AUSTRIA: -0.0619\n",
      "FACULTIES_FACULTY OF EDUCATION: 0.0607\n",
      "FACULTIES_ FACULTY OF COMPUTER AND INFORMATION SCIENCES: 0.0531\n",
      "DEPARTMENTS_VISUAL COMMUNICATION AND DESIGN: 0.0508\n",
      "DEPARTMENTS_INTERNATIONAL FINANCE: 0.0493\n",
      "DEPARTMENTS_HISTORY: -0.0452\n",
      "DEPARTMENTS_INTERNATIONAL TRADE AND BUSINESS: 0.0434\n",
      "FACULTIES_FACULTY OF ECONOMICS AND ADMINISTRATIVE SCIENCES: 0.0430\n",
      "DEPARTMENTS_ECONOMICS: 0.0382\n",
      "DEPARTMENTS_PHILOSOPHY: -0.0355\n",
      "DEPARTMENTS_SOFTWARE DEVELOPMENT: -0.0352\n",
      "DEPARTMENTS_GENETICS AND BIOENGINEERING : 0.0334\n",
      "COUNTRIES_CZECH REPUBLIC: -0.0317\n",
      "DEPARTMENTS_NURSING: -0.0309\n",
      "DEPARTMENTS_BIOMEDICAL ENGINEERING: 0.0301\n",
      "FACULTIES_FACULTY OF FINE ARTS: 0.0295\n",
      "FACULTIES_FACULTY OF ARCHITECTURE: -0.0282\n",
      "DEPARTMENTS_E-COMMERCE MANAGEMENT: 0.0281\n",
      "DEPARTMENTS_BUSINESS ADMINISTRATION: -0.0236\n",
      "COUNTRIES_FINLAND: -0.0232\n",
      "DEPARTMENTS_GUIDANCE AND PSYCHOLOGICAL COUNSELING: -0.0206\n",
      "DEPARTMENTS_INTERNATIONALES MANAGEMENT (DE): 0.0178\n",
      "DEPARTMENTS_INTERIOR ARCHITECTURE: -0.0173\n",
      "DEPARTMENTS_POLITICAL SCIENCE AND INTERNATIONAL RELATIONS: -0.0165\n",
      "DEPARTMENTS_PUBLIC ADMINISTRATION: -0.0158\n",
      "DEPARTMENTS_URBAN DESIGN AND LANDSCAPE ARCHITECTURE: -0.0153\n",
      "COUNTRIES_GREECE: 0.0151\n",
      "DEPARTMENTS_PHYSICS: -0.0146\n",
      "FACULTIES_FACULTY OF HEALTH SCIENCES: 0.0127\n",
      "DEPARTMENTS_INFORMATION SECURITY TECHNOLOGY: -0.0102\n",
      "DEPARTMENTS_ELECTRICAL & ELECTRONICS ENGINEERING: -0.0094\n",
      "DEPARTMENTS_MANAGEMENT INFORMATION SYSTEMS: -0.0056\n",
      "DEPARTMENTS_ARCHITECTURE: 0.0045\n",
      "COUNTRIES_NORWAY: -0.0044\n",
      "DEPARTMENTS_AGRICULTURAL TRADE AND MANAGEMENT: -0.0040\n",
      "FACULTIES_FACULTY OF MEDICINE: 0.0030\n",
      "DEPARTMENTS_MEDICINE: 0.0030\n",
      "DEPARTMENTS_POLITICAL SCIENCE AND INTERNATIONAL RELATIONS (FRENCH): -0.0025\n",
      "COUNTRIES_IRELAND: 0.0022\n",
      "DEPARTMENTS_ADVERTISING DESIGN AND COMMUNICATION: 0.0017\n",
      "COUNTRIES_BULGARIA: 0.0014\n",
      "DEPARTMENTS_LOGISTICS MANAGEMENT: -0.0011\n",
      "DEPARTMENTS_GRAPHIC DESIGN: -0.0010\n",
      "DEPARTMENTS_FOOD ENGINEERING: -0.0009\n",
      "COUNTRIES_CROATIA: 0.0004\n",
      "COUNTRIES_SLOVENIA: -0.0004\n",
      "DEPARTMENTS_MATHEMATICS: -0.0003\n",
      "DEPARTMENTS_TOURISM MANAGEMENT: -0.0002\n",
      "DEPARTMENTS_ELEMENTARY MATHEMATICS EDUCATION: 0.0001\n",
      "DEPARTMENTS_INDUSTRIAL DESIGN: 0.0000\n",
      "DEPARTMENTS_SPECIAL EDUCATION TEACHING: 0.0000\n"
     ]
    }
   ],
   "source": [
    "# check feature important\n",
    "# Get feature importance (coefficients)\n",
    "feature_importance = log_reg.coef_[0]\n",
    "\n",
    "# Pair feature names with coefficients\n",
    "feature_names = list(X.columns)\n",
    "coefficients = dict(zip(feature_names, feature_importance))\n",
    "\n",
    "# Print feature importance\n",
    "print(\"Feature Importance:\")\n",
    "for feature, coef in sorted(coefficients.items(), key=lambda x: abs(x[1]), reverse=True):\n",
    "    print(f\"{feature}: {coef:.4f}\")\n"
   ]
  },
  {
   "cell_type": "markdown",
   "id": "f68c0f00-eac1-4b9c-8f6e-78648cb8eb00",
   "metadata": {},
   "source": [
    "- most of the important feature is FACULTIES_FACULTY OF ARTS AND SCIENCES followed by FACULTIES_FACULTY OF ENGINEERING and exam score."
   ]
  },
  {
   "cell_type": "code",
   "execution_count": null,
   "id": "de71ad73-e0ae-4480-a826-92388bf1522c",
   "metadata": {},
   "outputs": [],
   "source": []
  }
 ],
 "metadata": {
  "kernelspec": {
   "display_name": "Python 3 (ipykernel)",
   "language": "python",
   "name": "python3"
  },
  "language_info": {
   "codemirror_mode": {
    "name": "ipython",
    "version": 3
   },
   "file_extension": ".py",
   "mimetype": "text/x-python",
   "name": "python",
   "nbconvert_exporter": "python",
   "pygments_lexer": "ipython3",
   "version": "3.11.7"
  }
 },
 "nbformat": 4,
 "nbformat_minor": 5
}
